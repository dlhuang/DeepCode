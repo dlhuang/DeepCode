{
 "cells": [
  {
   "cell_type": "markdown",
   "metadata": {},
   "source": [
    "# Import librarys"
   ]
  },
  {
   "cell_type": "code",
   "execution_count": 58,
   "metadata": {},
   "outputs": [
    {
     "name": "stdout",
     "output_type": "stream",
     "text": [
      "[nltk_data] Downloading package wordnet to\n",
      "[nltk_data]     /Users/newscred/nltk_data...\n",
      "[nltk_data]   Package wordnet is already up-to-date!\n",
      "[nltk_data] Downloading package punkt to /Users/newscred/nltk_data...\n",
      "[nltk_data]   Package punkt is already up-to-date!\n",
      "[nltk_data] Downloading package stopwords to\n",
      "[nltk_data]     /Users/newscred/nltk_data...\n",
      "[nltk_data]   Package stopwords is already up-to-date!\n"
     ]
    },
    {
     "data": {
      "text/plain": [
       "True"
      ]
     },
     "execution_count": 58,
     "metadata": {},
     "output_type": "execute_result"
    }
   ],
   "source": [
    "import pandas as pd\n",
    "import bs4\n",
    "from bs4 import BeautifulSoup\n",
    "import re\n",
    "from textstat.textstat import textstat\n",
    "import nltk\n",
    "from nltk.stem import WordNetLemmatizer\n",
    "from nltk.stem import PorterStemmer\n",
    "from nltk.tokenize import word_tokenize\n",
    "from nltk.corpus import stopwords\n",
    "import math\n",
    "import numpy as np\n",
    "nltk.download(['wordnet', 'punkt', 'stopwords'])"
   ]
  },
  {
   "cell_type": "code",
   "execution_count": 29,
   "metadata": {
    "collapsed": true
   },
   "outputs": [],
   "source": [
    "import gensim\n",
    "import spacy"
   ]
  },
  {
   "cell_type": "code",
   "execution_count": 30,
   "metadata": {},
   "outputs": [
    {
     "name": "stdout",
     "output_type": "stream",
     "text": [
      "[(u'Hello', u'INTJ'), (u',', u'PUNCT'), (u'spacy', u'NOUN'), (u'!', u'PUNCT')]\n"
     ]
    }
   ],
   "source": [
    "nlp = spacy.load('en')                 # You are here.\n",
    "doc = nlp(u'Hello, spacy!')            # See \"Using the pipeline\"\n",
    "print([(w.text, w.pos_) for w in doc]) # See \"Doc, Span and Token\""
   ]
  },
  {
   "cell_type": "markdown",
   "metadata": {},
   "source": [
    "# Read data"
   ]
  },
  {
   "cell_type": "code",
   "execution_count": 31,
   "metadata": {},
   "outputs": [
    {
     "data": {
      "text/html": [
       "<div>\n",
       "<style>\n",
       "    .dataframe thead tr:only-child th {\n",
       "        text-align: right;\n",
       "    }\n",
       "\n",
       "    .dataframe thead th {\n",
       "        text-align: left;\n",
       "    }\n",
       "\n",
       "    .dataframe tbody tr th {\n",
       "        vertical-align: top;\n",
       "    }\n",
       "</style>\n",
       "<table border=\"1\" class=\"dataframe\">\n",
       "  <thead>\n",
       "    <tr style=\"text-align: right;\">\n",
       "      <th></th>\n",
       "      <th>title</th>\n",
       "      <th>text</th>\n",
       "      <th>guid</th>\n",
       "      <th>pageviews</th>\n",
       "      <th>engaged_time</th>\n",
       "      <th>avg_engaged_time</th>\n",
       "      <th>type</th>\n",
       "    </tr>\n",
       "  </thead>\n",
       "  <tbody>\n",
       "    <tr>\n",
       "      <th>0</th>\n",
       "      <td>Marc Jacobs Starred in His Very Own 'Zoolander...</td>\n",
       "      <td>&lt;p&gt;Budding auteur Marc Jacobs decided to make ...</td>\n",
       "      <td>ad1e08c60ed4eb7775fe3cd2b6f68398</td>\n",
       "      <td>19.0</td>\n",
       "      <td>100000.0</td>\n",
       "      <td>10000.0000</td>\n",
       "      <td>licensed</td>\n",
       "    </tr>\n",
       "    <tr>\n",
       "      <th>1</th>\n",
       "      <td>11 Ways to Sneak In Extra Steps on Your Fitnes...</td>\n",
       "      <td>&lt;p&gt;&lt;a href=\"http://www.purewow.com/wellness/Ho...</td>\n",
       "      <td>a68a9f01ec8b695a81817e5250d61c26</td>\n",
       "      <td>94.0</td>\n",
       "      <td>3850000.0</td>\n",
       "      <td>192500.0000</td>\n",
       "      <td>licensed</td>\n",
       "    </tr>\n",
       "    <tr>\n",
       "      <th>2</th>\n",
       "      <td>Jaden Smith Stars in New Louis Vuitton Ads</td>\n",
       "      <td>&lt;p&gt;Nicolas Ghesqui&amp;#232;re's Instagram feed ap...</td>\n",
       "      <td>bed7658b06ad4e03ebd4e0cb66595e5e</td>\n",
       "      <td>9.0</td>\n",
       "      <td>55000.0</td>\n",
       "      <td>9166.6667</td>\n",
       "      <td>licensed</td>\n",
       "    </tr>\n",
       "    <tr>\n",
       "      <th>3</th>\n",
       "      <td>Here's How to Walk Better in Heels</td>\n",
       "      <td>&lt;p&gt;We&amp;#8217;ve taught you &lt;a href=\"http://www....</td>\n",
       "      <td>e5d8d5f905d6b1e5c1f2394a4600a436</td>\n",
       "      <td>21.0</td>\n",
       "      <td>580000.0</td>\n",
       "      <td>30526.3158</td>\n",
       "      <td>licensed</td>\n",
       "    </tr>\n",
       "    <tr>\n",
       "      <th>4</th>\n",
       "      <td>Prepare to Glow Like Beyonc� in Your Next Selfie</td>\n",
       "      <td>&lt;p&gt;If you thought it was impossible to snap a ...</td>\n",
       "      <td>324b81625a37e7b414b0a11bdd1884f5</td>\n",
       "      <td>30.0</td>\n",
       "      <td>380000.0</td>\n",
       "      <td>25333.3333</td>\n",
       "      <td>original</td>\n",
       "    </tr>\n",
       "  </tbody>\n",
       "</table>\n",
       "</div>"
      ],
      "text/plain": [
       "                                               title  \\\n",
       "0  Marc Jacobs Starred in His Very Own 'Zoolander...   \n",
       "1  11 Ways to Sneak In Extra Steps on Your Fitnes...   \n",
       "2         Jaden Smith Stars in New Louis Vuitton Ads   \n",
       "3                 Here's How to Walk Better in Heels   \n",
       "4   Prepare to Glow Like Beyonc� in Your Next Selfie   \n",
       "\n",
       "                                                text  \\\n",
       "0  <p>Budding auteur Marc Jacobs decided to make ...   \n",
       "1  <p><a href=\"http://www.purewow.com/wellness/Ho...   \n",
       "2  <p>Nicolas Ghesqui&#232;re's Instagram feed ap...   \n",
       "3  <p>We&#8217;ve taught you <a href=\"http://www....   \n",
       "4  <p>If you thought it was impossible to snap a ...   \n",
       "\n",
       "                               guid  pageviews  engaged_time  \\\n",
       "0  ad1e08c60ed4eb7775fe3cd2b6f68398       19.0      100000.0   \n",
       "1  a68a9f01ec8b695a81817e5250d61c26       94.0     3850000.0   \n",
       "2  bed7658b06ad4e03ebd4e0cb66595e5e        9.0       55000.0   \n",
       "3  e5d8d5f905d6b1e5c1f2394a4600a436       21.0      580000.0   \n",
       "4  324b81625a37e7b414b0a11bdd1884f5       30.0      380000.0   \n",
       "\n",
       "   avg_engaged_time      type  \n",
       "0        10000.0000  licensed  \n",
       "1       192500.0000  licensed  \n",
       "2         9166.6667  licensed  \n",
       "3        30526.3158  licensed  \n",
       "4        25333.3333  original  "
      ]
     },
     "execution_count": 31,
     "metadata": {},
     "output_type": "execute_result"
    }
   ],
   "source": [
    "data_df = pd.read_csv('./all_data.csv', index_col=0)\n",
    "data_df = data_df.reset_index(drop=True)\n",
    "data_df.head()"
   ]
  },
  {
   "cell_type": "code",
   "execution_count": 32,
   "metadata": {},
   "outputs": [
    {
     "data": {
      "text/plain": [
       "(57866, 7)"
      ]
     },
     "execution_count": 32,
     "metadata": {},
     "output_type": "execute_result"
    }
   ],
   "source": [
    "data_df.shape"
   ]
  },
  {
   "cell_type": "markdown",
   "metadata": {},
   "source": [
    "# Raw text processing"
   ]
  },
  {
   "cell_type": "code",
   "execution_count": 33,
   "metadata": {
    "collapsed": true
   },
   "outputs": [],
   "source": [
    "def preprocess_text(text, stem=False, lemmize=True):\n",
    "    text = get_text(text)\n",
    "    words = word_tokenize(text)\n",
    "    lemmatizer = WordNetLemmatizer()\n",
    "    stemmer = PorterStemmer()\n",
    "    preprocessed_words = []\n",
    "\n",
    "    for word in words:\n",
    "        if len(word) > 2 and word not in stopwords.words('english'):\n",
    "            if lemmize:\n",
    "                word = lemmatizer.lemmatize(word)                \n",
    "            if stem:\n",
    "                word = stemmer.stem(word)                \n",
    "            preprocessed_words.append(word)    \n",
    "    return ' '.join(preprocessed_words)\n",
    "\n",
    "def preprocess_texts(df, column, stem=False, lemmize=True):\n",
    "    count = 0\n",
    "    preprocessed = []\n",
    "    for text in df[column]:\n",
    "        count += 1\n",
    "        text = preprocess_text(text, stem, lemmize)\n",
    "        preprocessed.append(text)\n",
    "        if count % 100 == 0:\n",
    "            print 'count: ', count\n",
    "        percent = float(count)/float(len(df))*100\n",
    "        if percent % 10 == 0.0:\n",
    "            print \"For column {}: text {} of {} processed ({}%)\".format(column, count, len(df), round(percent,2))\n",
    "        \n",
    "    return preprocessed"
   ]
  },
  {
   "cell_type": "code",
   "execution_count": 34,
   "metadata": {
    "collapsed": true
   },
   "outputs": [],
   "source": [
    "def get_text(html):\n",
    "    text = BeautifulSoup(str(html), 'lxml').get_text().encode('ascii', 'ignore')\n",
    "    text = re.sub('(\\\\n){1,}', ' ', text)\n",
    "    text = text.lower()\n",
    "    return text"
   ]
  },
  {
   "cell_type": "code",
   "execution_count": 35,
   "metadata": {},
   "outputs": [
    {
     "data": {
      "text/html": [
       "<div>\n",
       "<style>\n",
       "    .dataframe thead tr:only-child th {\n",
       "        text-align: right;\n",
       "    }\n",
       "\n",
       "    .dataframe thead th {\n",
       "        text-align: left;\n",
       "    }\n",
       "\n",
       "    .dataframe tbody tr th {\n",
       "        vertical-align: top;\n",
       "    }\n",
       "</style>\n",
       "<table border=\"1\" class=\"dataframe\">\n",
       "  <thead>\n",
       "    <tr style=\"text-align: right;\">\n",
       "      <th></th>\n",
       "      <th>title</th>\n",
       "      <th>text</th>\n",
       "      <th>guid</th>\n",
       "      <th>pageviews</th>\n",
       "      <th>engaged_time</th>\n",
       "      <th>avg_engaged_time</th>\n",
       "      <th>type</th>\n",
       "      <th>clean_text</th>\n",
       "    </tr>\n",
       "  </thead>\n",
       "  <tbody>\n",
       "    <tr>\n",
       "      <th>0</th>\n",
       "      <td>Marc Jacobs Starred in His Very Own 'Zoolander...</td>\n",
       "      <td>&lt;p&gt;Budding auteur Marc Jacobs decided to make ...</td>\n",
       "      <td>ad1e08c60ed4eb7775fe3cd2b6f68398</td>\n",
       "      <td>19.0</td>\n",
       "      <td>100000.0</td>\n",
       "      <td>10000.0000</td>\n",
       "      <td>licensed</td>\n",
       "      <td>budding auteur marc jacobs decided to make a l...</td>\n",
       "    </tr>\n",
       "    <tr>\n",
       "      <th>1</th>\n",
       "      <td>11 Ways to Sneak In Extra Steps on Your Fitnes...</td>\n",
       "      <td>&lt;p&gt;&lt;a href=\"http://www.purewow.com/wellness/Ho...</td>\n",
       "      <td>a68a9f01ec8b695a81817e5250d61c26</td>\n",
       "      <td>94.0</td>\n",
       "      <td>3850000.0</td>\n",
       "      <td>192500.0000</td>\n",
       "      <td>licensed</td>\n",
       "      <td>you guys: a recent study says that adding an ...</td>\n",
       "    </tr>\n",
       "    <tr>\n",
       "      <th>2</th>\n",
       "      <td>Jaden Smith Stars in New Louis Vuitton Ads</td>\n",
       "      <td>&lt;p&gt;Nicolas Ghesqui&amp;#232;re's Instagram feed ap...</td>\n",
       "      <td>bed7658b06ad4e03ebd4e0cb66595e5e</td>\n",
       "      <td>9.0</td>\n",
       "      <td>55000.0</td>\n",
       "      <td>9166.6667</td>\n",
       "      <td>licensed</td>\n",
       "      <td>nicolas ghesquire's instagram feed appears to ...</td>\n",
       "    </tr>\n",
       "    <tr>\n",
       "      <th>3</th>\n",
       "      <td>Here's How to Walk Better in Heels</td>\n",
       "      <td>&lt;p&gt;We&amp;#8217;ve taught you &lt;a href=\"http://www....</td>\n",
       "      <td>e5d8d5f905d6b1e5c1f2394a4600a436</td>\n",
       "      <td>21.0</td>\n",
       "      <td>580000.0</td>\n",
       "      <td>30526.3158</td>\n",
       "      <td>licensed</td>\n",
       "      <td>weve taught you how to make your heels more co...</td>\n",
       "    </tr>\n",
       "    <tr>\n",
       "      <th>4</th>\n",
       "      <td>Prepare to Glow Like Beyonc� in Your Next Selfie</td>\n",
       "      <td>&lt;p&gt;If you thought it was impossible to snap a ...</td>\n",
       "      <td>324b81625a37e7b414b0a11bdd1884f5</td>\n",
       "      <td>30.0</td>\n",
       "      <td>380000.0</td>\n",
       "      <td>25333.3333</td>\n",
       "      <td>original</td>\n",
       "      <td>if you thought it was impossible to snap a cel...</td>\n",
       "    </tr>\n",
       "  </tbody>\n",
       "</table>\n",
       "</div>"
      ],
      "text/plain": [
       "                                               title  \\\n",
       "0  Marc Jacobs Starred in His Very Own 'Zoolander...   \n",
       "1  11 Ways to Sneak In Extra Steps on Your Fitnes...   \n",
       "2         Jaden Smith Stars in New Louis Vuitton Ads   \n",
       "3                 Here's How to Walk Better in Heels   \n",
       "4   Prepare to Glow Like Beyonc� in Your Next Selfie   \n",
       "\n",
       "                                                text  \\\n",
       "0  <p>Budding auteur Marc Jacobs decided to make ...   \n",
       "1  <p><a href=\"http://www.purewow.com/wellness/Ho...   \n",
       "2  <p>Nicolas Ghesqui&#232;re's Instagram feed ap...   \n",
       "3  <p>We&#8217;ve taught you <a href=\"http://www....   \n",
       "4  <p>If you thought it was impossible to snap a ...   \n",
       "\n",
       "                               guid  pageviews  engaged_time  \\\n",
       "0  ad1e08c60ed4eb7775fe3cd2b6f68398       19.0      100000.0   \n",
       "1  a68a9f01ec8b695a81817e5250d61c26       94.0     3850000.0   \n",
       "2  bed7658b06ad4e03ebd4e0cb66595e5e        9.0       55000.0   \n",
       "3  e5d8d5f905d6b1e5c1f2394a4600a436       21.0      580000.0   \n",
       "4  324b81625a37e7b414b0a11bdd1884f5       30.0      380000.0   \n",
       "\n",
       "   avg_engaged_time      type  \\\n",
       "0        10000.0000  licensed   \n",
       "1       192500.0000  licensed   \n",
       "2         9166.6667  licensed   \n",
       "3        30526.3158  licensed   \n",
       "4        25333.3333  original   \n",
       "\n",
       "                                          clean_text  \n",
       "0  budding auteur marc jacobs decided to make a l...  \n",
       "1   you guys: a recent study says that adding an ...  \n",
       "2  nicolas ghesquire's instagram feed appears to ...  \n",
       "3  weve taught you how to make your heels more co...  \n",
       "4  if you thought it was impossible to snap a cel...  "
      ]
     },
     "execution_count": 35,
     "metadata": {},
     "output_type": "execute_result"
    }
   ],
   "source": [
    "data_df['clean_text'] = [get_text(html) for html in data_df['text']]\n",
    "data_df.head()"
   ]
  },
  {
   "cell_type": "code",
   "execution_count": 36,
   "metadata": {},
   "outputs": [
    {
     "data": {
      "text/plain": [
       "80"
      ]
     },
     "execution_count": 36,
     "metadata": {},
     "output_type": "execute_result"
    }
   ],
   "source": [
    "len(data_df[data_df['clean_text'] == ''])"
   ]
  },
  {
   "cell_type": "markdown",
   "metadata": {},
   "source": [
    "# Feature calculation"
   ]
  },
  {
   "cell_type": "markdown",
   "metadata": {},
   "source": [
    "### statistical features"
   ]
  },
  {
   "cell_type": "code",
   "execution_count": 37,
   "metadata": {
    "collapsed": true
   },
   "outputs": [],
   "source": [
    "df = data_df[data_df['clean_text'].apply(textstat.lexicon_count) != 0]"
   ]
  },
  {
   "cell_type": "code",
   "execution_count": 38,
   "metadata": {
    "collapsed": true
   },
   "outputs": [],
   "source": [
    "def textstat_stats(text):\n",
    "    difficulty = textstat.flesch_reading_ease(text)\n",
    "    grade_difficulty = textstat.flesch_kincaid_grade(text)\n",
    "    gfog = textstat.gunning_fog(text)\n",
    "    smog = textstat.smog_index(text)\n",
    "    ari = textstat.automated_readability_index(text)\n",
    "    cli = textstat.coleman_liau_index(text)\n",
    "    lwf = textstat.linsear_write_formula(text)\n",
    "    dcrs = textstat.dale_chall_readability_score(text)\n",
    "    return pd.Series([difficulty, grade_difficulty, gfog, smog, ari, cli, lwf, dcrs])"
   ]
  },
  {
   "cell_type": "code",
   "execution_count": 39,
   "metadata": {
    "collapsed": true
   },
   "outputs": [],
   "source": [
    "df[['difficulty', 'grade_difficulty','gfog','smog','ari','cli','lwf','dcrs']] = df['clean_text'].apply(textstat_stats)"
   ]
  },
  {
   "cell_type": "code",
   "execution_count": 97,
   "metadata": {},
   "outputs": [
    {
     "data": {
      "text/html": [
       "<div>\n",
       "<style>\n",
       "    .dataframe thead tr:only-child th {\n",
       "        text-align: right;\n",
       "    }\n",
       "\n",
       "    .dataframe thead th {\n",
       "        text-align: left;\n",
       "    }\n",
       "\n",
       "    .dataframe tbody tr th {\n",
       "        vertical-align: top;\n",
       "    }\n",
       "</style>\n",
       "<table border=\"1\" class=\"dataframe\">\n",
       "  <thead>\n",
       "    <tr style=\"text-align: right;\">\n",
       "      <th></th>\n",
       "      <th>title</th>\n",
       "      <th>text</th>\n",
       "      <th>guid</th>\n",
       "      <th>pageviews</th>\n",
       "      <th>engaged_time</th>\n",
       "      <th>avg_engaged_time</th>\n",
       "      <th>type</th>\n",
       "      <th>clean_text</th>\n",
       "      <th>difficulty</th>\n",
       "      <th>grade_difficulty</th>\n",
       "      <th>...</th>\n",
       "      <th>text_h1_count</th>\n",
       "      <th>text_h2_count</th>\n",
       "      <th>text_h3_count</th>\n",
       "      <th>text_h4_count</th>\n",
       "      <th>text_h5_count</th>\n",
       "      <th>text_h6_count</th>\n",
       "      <th>text_bold_count</th>\n",
       "      <th>text_italic_count</th>\n",
       "      <th>text_table_count</th>\n",
       "      <th>_text_table_count</th>\n",
       "    </tr>\n",
       "  </thead>\n",
       "  <tbody>\n",
       "    <tr>\n",
       "      <th>0</th>\n",
       "      <td>Marc Jacobs Starred in His Very Own 'Zoolander...</td>\n",
       "      <td>&lt;p&gt;Budding auteur Marc Jacobs decided to make ...</td>\n",
       "      <td>ad1e08c60ed4eb7775fe3cd2b6f68398</td>\n",
       "      <td>19.0</td>\n",
       "      <td>100000.0</td>\n",
       "      <td>10000.0000</td>\n",
       "      <td>licensed</td>\n",
       "      <td>budding auteur marc jacobs decided to make a l...</td>\n",
       "      <td>46.78</td>\n",
       "      <td>10.7</td>\n",
       "      <td>...</td>\n",
       "      <td>0</td>\n",
       "      <td>0</td>\n",
       "      <td>0</td>\n",
       "      <td>0</td>\n",
       "      <td>0</td>\n",
       "      <td>0</td>\n",
       "      <td>0</td>\n",
       "      <td>0</td>\n",
       "      <td>0</td>\n",
       "      <td>0</td>\n",
       "    </tr>\n",
       "    <tr>\n",
       "      <th>1</th>\n",
       "      <td>11 Ways to Sneak In Extra Steps on Your Fitnes...</td>\n",
       "      <td>&lt;p&gt;&lt;a href=\"http://www.purewow.com/wellness/Ho...</td>\n",
       "      <td>a68a9f01ec8b695a81817e5250d61c26</td>\n",
       "      <td>94.0</td>\n",
       "      <td>3850000.0</td>\n",
       "      <td>192500.0000</td>\n",
       "      <td>licensed</td>\n",
       "      <td>you guys: a recent study says that adding an ...</td>\n",
       "      <td>82.65</td>\n",
       "      <td>5.2</td>\n",
       "      <td>...</td>\n",
       "      <td>0</td>\n",
       "      <td>0</td>\n",
       "      <td>0</td>\n",
       "      <td>0</td>\n",
       "      <td>0</td>\n",
       "      <td>0</td>\n",
       "      <td>0</td>\n",
       "      <td>0</td>\n",
       "      <td>0</td>\n",
       "      <td>0</td>\n",
       "    </tr>\n",
       "    <tr>\n",
       "      <th>2</th>\n",
       "      <td>Jaden Smith Stars in New Louis Vuitton Ads</td>\n",
       "      <td>&lt;p&gt;Nicolas Ghesqui&amp;#232;re's Instagram feed ap...</td>\n",
       "      <td>bed7658b06ad4e03ebd4e0cb66595e5e</td>\n",
       "      <td>9.0</td>\n",
       "      <td>55000.0</td>\n",
       "      <td>9166.6667</td>\n",
       "      <td>licensed</td>\n",
       "      <td>nicolas ghesquire's instagram feed appears to ...</td>\n",
       "      <td>52.19</td>\n",
       "      <td>10.7</td>\n",
       "      <td>...</td>\n",
       "      <td>0</td>\n",
       "      <td>0</td>\n",
       "      <td>0</td>\n",
       "      <td>0</td>\n",
       "      <td>0</td>\n",
       "      <td>0</td>\n",
       "      <td>0</td>\n",
       "      <td>0</td>\n",
       "      <td>0</td>\n",
       "      <td>0</td>\n",
       "    </tr>\n",
       "    <tr>\n",
       "      <th>3</th>\n",
       "      <td>Here's How to Walk Better in Heels</td>\n",
       "      <td>&lt;p&gt;We&amp;#8217;ve taught you &lt;a href=\"http://www....</td>\n",
       "      <td>e5d8d5f905d6b1e5c1f2394a4600a436</td>\n",
       "      <td>21.0</td>\n",
       "      <td>580000.0</td>\n",
       "      <td>30526.3158</td>\n",
       "      <td>licensed</td>\n",
       "      <td>weve taught you how to make your heels more co...</td>\n",
       "      <td>73.17</td>\n",
       "      <td>6.8</td>\n",
       "      <td>...</td>\n",
       "      <td>0</td>\n",
       "      <td>0</td>\n",
       "      <td>0</td>\n",
       "      <td>0</td>\n",
       "      <td>0</td>\n",
       "      <td>0</td>\n",
       "      <td>0</td>\n",
       "      <td>0</td>\n",
       "      <td>0</td>\n",
       "      <td>0</td>\n",
       "    </tr>\n",
       "    <tr>\n",
       "      <th>4</th>\n",
       "      <td>Prepare to Glow Like Beyonc� in Your Next Selfie</td>\n",
       "      <td>&lt;p&gt;If you thought it was impossible to snap a ...</td>\n",
       "      <td>324b81625a37e7b414b0a11bdd1884f5</td>\n",
       "      <td>30.0</td>\n",
       "      <td>380000.0</td>\n",
       "      <td>25333.3333</td>\n",
       "      <td>original</td>\n",
       "      <td>if you thought it was impossible to snap a cel...</td>\n",
       "      <td>63.70</td>\n",
       "      <td>8.4</td>\n",
       "      <td>...</td>\n",
       "      <td>0</td>\n",
       "      <td>0</td>\n",
       "      <td>0</td>\n",
       "      <td>0</td>\n",
       "      <td>0</td>\n",
       "      <td>0</td>\n",
       "      <td>0</td>\n",
       "      <td>0</td>\n",
       "      <td>0</td>\n",
       "      <td>0</td>\n",
       "    </tr>\n",
       "  </tbody>\n",
       "</table>\n",
       "<p>5 rows × 30 columns</p>\n",
       "</div>"
      ],
      "text/plain": [
       "                                               title  \\\n",
       "0  Marc Jacobs Starred in His Very Own 'Zoolander...   \n",
       "1  11 Ways to Sneak In Extra Steps on Your Fitnes...   \n",
       "2         Jaden Smith Stars in New Louis Vuitton Ads   \n",
       "3                 Here's How to Walk Better in Heels   \n",
       "4   Prepare to Glow Like Beyonc� in Your Next Selfie   \n",
       "\n",
       "                                                text  \\\n",
       "0  <p>Budding auteur Marc Jacobs decided to make ...   \n",
       "1  <p><a href=\"http://www.purewow.com/wellness/Ho...   \n",
       "2  <p>Nicolas Ghesqui&#232;re's Instagram feed ap...   \n",
       "3  <p>We&#8217;ve taught you <a href=\"http://www....   \n",
       "4  <p>If you thought it was impossible to snap a ...   \n",
       "\n",
       "                               guid  pageviews  engaged_time  \\\n",
       "0  ad1e08c60ed4eb7775fe3cd2b6f68398       19.0      100000.0   \n",
       "1  a68a9f01ec8b695a81817e5250d61c26       94.0     3850000.0   \n",
       "2  bed7658b06ad4e03ebd4e0cb66595e5e        9.0       55000.0   \n",
       "3  e5d8d5f905d6b1e5c1f2394a4600a436       21.0      580000.0   \n",
       "4  324b81625a37e7b414b0a11bdd1884f5       30.0      380000.0   \n",
       "\n",
       "   avg_engaged_time      type  \\\n",
       "0        10000.0000  licensed   \n",
       "1       192500.0000  licensed   \n",
       "2         9166.6667  licensed   \n",
       "3        30526.3158  licensed   \n",
       "4        25333.3333  original   \n",
       "\n",
       "                                          clean_text  difficulty  \\\n",
       "0  budding auteur marc jacobs decided to make a l...       46.78   \n",
       "1   you guys: a recent study says that adding an ...       82.65   \n",
       "2  nicolas ghesquire's instagram feed appears to ...       52.19   \n",
       "3  weve taught you how to make your heels more co...       73.17   \n",
       "4  if you thought it was impossible to snap a cel...       63.70   \n",
       "\n",
       "   grade_difficulty        ...          text_h1_count  text_h2_count  \\\n",
       "0              10.7        ...                      0              0   \n",
       "1               5.2        ...                      0              0   \n",
       "2              10.7        ...                      0              0   \n",
       "3               6.8        ...                      0              0   \n",
       "4               8.4        ...                      0              0   \n",
       "\n",
       "   text_h3_count  text_h4_count  text_h5_count  text_h6_count  \\\n",
       "0              0              0              0              0   \n",
       "1              0              0              0              0   \n",
       "2              0              0              0              0   \n",
       "3              0              0              0              0   \n",
       "4              0              0              0              0   \n",
       "\n",
       "   text_bold_count  text_italic_count  text_table_count  _text_table_count  \n",
       "0                0                  0                 0                  0  \n",
       "1                0                  0                 0                  0  \n",
       "2                0                  0                 0                  0  \n",
       "3                0                  0                 0                  0  \n",
       "4                0                  0                 0                  0  \n",
       "\n",
       "[5 rows x 30 columns]"
      ]
     },
     "execution_count": 97,
     "metadata": {},
     "output_type": "execute_result"
    }
   ],
   "source": [
    "df.head()\n",
    "# df.to_csv('all_data_with_stats.csv')"
   ]
  },
  {
   "cell_type": "code",
   "execution_count": 98,
   "metadata": {},
   "outputs": [
    {
     "data": {
      "text/plain": [
       "(57758, 30)"
      ]
     },
     "execution_count": 98,
     "metadata": {},
     "output_type": "execute_result"
    }
   ],
   "source": [
    "df.shape"
   ]
  },
  {
   "cell_type": "markdown",
   "metadata": {},
   "source": [
    "### text features"
   ]
  },
  {
   "cell_type": "code",
   "execution_count": 80,
   "metadata": {
    "collapsed": true
   },
   "outputs": [],
   "source": [
    "def html_tag_features(text, tag_name):\n",
    "    if isinstance(text, float):\n",
    "        return 0\n",
    "    soup = BeautifulSoup(text, 'lxml')\n",
    "    sz = len(soup.find_all(tag_name))\n",
    "    return sz"
   ]
  },
  {
   "cell_type": "code",
   "execution_count": 81,
   "metadata": {
    "collapsed": true
   },
   "outputs": [],
   "source": [
    "text_img_count = [html_tag_features(x, 'img') for x in df['text']]\n",
    "text_vid_count = [html_tag_features(x, 'video') for x in df['text']]\n",
    "text_link_count = [html_tag_features(x, 'a') for x in df['text']]\n",
    "text_par_count = [html_tag_features(x, 'p') for x in df['text']]\n",
    "text_h1_count = [html_tag_features(x, 'h1') for x in df['text']]\n",
    "text_h2_count = [html_tag_features(x, 'h2') for x in df['text']]\n",
    "text_h3_count = [html_tag_features(x, 'h3') for x in df['text']]\n",
    "text_h4_count = [html_tag_features(x, 'h4') for x in df['text']]\n",
    "text_h5_count = [html_tag_features(x, 'h5') for x in df['text']]\n",
    "text_h6_count = [html_tag_features(x, 'h6') for x in df['text']]\n",
    "text_bold_count = [html_tag_features(x, 'b') for x in df['text']]\n",
    "text_italic_count = [html_tag_features(x, 'i') for x in df['text']]\n",
    "text_table_count = [html_tag_features(x, 'table') for x in df['text']]"
   ]
  },
  {
   "cell_type": "code",
   "execution_count": 92,
   "metadata": {
    "collapsed": true
   },
   "outputs": [],
   "source": [
    "data = {'text_img_count': text_img_count ,\n",
    "        'text_vid_count': text_vid_count,\n",
    "        'text_link_count': text_link_count,\n",
    "        'text_par_count': text_par_count,\n",
    "        'text_h1_count': text_h1_count,\n",
    "        'text_h2_count': text_h2_count,\n",
    "        'text_h3_count': text_h3_count,\n",
    "        'text_h4_count': text_h4_count,\n",
    "        'text_h5_count': text_h5_count,\n",
    "        'text_h6_count': text_h6_count,\n",
    "        'text_bold_count': text_bold_count,\n",
    "        'text_italic_count': text_italic_count,\n",
    "        'text_table_count': text_table_count\n",
    "    }\n",
    "\n",
    "df1 = pd.DataFrame(data)"
   ]
  },
  {
   "cell_type": "code",
   "execution_count": 106,
   "metadata": {},
   "outputs": [
    {
     "data": {
      "text/html": [
       "<div>\n",
       "<style>\n",
       "    .dataframe thead tr:only-child th {\n",
       "        text-align: right;\n",
       "    }\n",
       "\n",
       "    .dataframe thead th {\n",
       "        text-align: left;\n",
       "    }\n",
       "\n",
       "    .dataframe tbody tr th {\n",
       "        vertical-align: top;\n",
       "    }\n",
       "</style>\n",
       "<table border=\"1\" class=\"dataframe\">\n",
       "  <thead>\n",
       "    <tr style=\"text-align: right;\">\n",
       "      <th></th>\n",
       "      <th>text_bold_count</th>\n",
       "      <th>text_h1_count</th>\n",
       "      <th>text_h2_count</th>\n",
       "      <th>text_h3_count</th>\n",
       "      <th>text_h4_count</th>\n",
       "      <th>text_h5_count</th>\n",
       "      <th>text_h6_count</th>\n",
       "      <th>text_img_count</th>\n",
       "      <th>text_italic_count</th>\n",
       "      <th>text_link_count</th>\n",
       "      <th>text_par_count</th>\n",
       "      <th>text_table_count</th>\n",
       "      <th>text_vid_count</th>\n",
       "    </tr>\n",
       "  </thead>\n",
       "  <tbody>\n",
       "    <tr>\n",
       "      <th>0</th>\n",
       "      <td>0</td>\n",
       "      <td>0</td>\n",
       "      <td>0</td>\n",
       "      <td>0</td>\n",
       "      <td>0</td>\n",
       "      <td>0</td>\n",
       "      <td>0</td>\n",
       "      <td>0</td>\n",
       "      <td>0</td>\n",
       "      <td>4</td>\n",
       "      <td>4</td>\n",
       "      <td>0</td>\n",
       "      <td>0</td>\n",
       "    </tr>\n",
       "    <tr>\n",
       "      <th>1</th>\n",
       "      <td>0</td>\n",
       "      <td>0</td>\n",
       "      <td>11</td>\n",
       "      <td>0</td>\n",
       "      <td>0</td>\n",
       "      <td>0</td>\n",
       "      <td>0</td>\n",
       "      <td>12</td>\n",
       "      <td>0</td>\n",
       "      <td>3</td>\n",
       "      <td>27</td>\n",
       "      <td>0</td>\n",
       "      <td>0</td>\n",
       "    </tr>\n",
       "    <tr>\n",
       "      <th>2</th>\n",
       "      <td>0</td>\n",
       "      <td>0</td>\n",
       "      <td>0</td>\n",
       "      <td>0</td>\n",
       "      <td>0</td>\n",
       "      <td>0</td>\n",
       "      <td>0</td>\n",
       "      <td>0</td>\n",
       "      <td>0</td>\n",
       "      <td>5</td>\n",
       "      <td>3</td>\n",
       "      <td>0</td>\n",
       "      <td>0</td>\n",
       "    </tr>\n",
       "    <tr>\n",
       "      <th>3</th>\n",
       "      <td>0</td>\n",
       "      <td>0</td>\n",
       "      <td>5</td>\n",
       "      <td>0</td>\n",
       "      <td>0</td>\n",
       "      <td>0</td>\n",
       "      <td>0</td>\n",
       "      <td>5</td>\n",
       "      <td>0</td>\n",
       "      <td>4</td>\n",
       "      <td>13</td>\n",
       "      <td>0</td>\n",
       "      <td>0</td>\n",
       "    </tr>\n",
       "    <tr>\n",
       "      <th>4</th>\n",
       "      <td>0</td>\n",
       "      <td>0</td>\n",
       "      <td>0</td>\n",
       "      <td>0</td>\n",
       "      <td>0</td>\n",
       "      <td>0</td>\n",
       "      <td>0</td>\n",
       "      <td>0</td>\n",
       "      <td>0</td>\n",
       "      <td>3</td>\n",
       "      <td>7</td>\n",
       "      <td>0</td>\n",
       "      <td>0</td>\n",
       "    </tr>\n",
       "  </tbody>\n",
       "</table>\n",
       "</div>"
      ],
      "text/plain": [
       "   text_bold_count  text_h1_count  text_h2_count  text_h3_count  \\\n",
       "0                0              0              0              0   \n",
       "1                0              0             11              0   \n",
       "2                0              0              0              0   \n",
       "3                0              0              5              0   \n",
       "4                0              0              0              0   \n",
       "\n",
       "   text_h4_count  text_h5_count  text_h6_count  text_img_count  \\\n",
       "0              0              0              0               0   \n",
       "1              0              0              0              12   \n",
       "2              0              0              0               0   \n",
       "3              0              0              0               5   \n",
       "4              0              0              0               0   \n",
       "\n",
       "   text_italic_count  text_link_count  text_par_count  text_table_count  \\\n",
       "0                  0                4               4                 0   \n",
       "1                  0                3              27                 0   \n",
       "2                  0                5               3                 0   \n",
       "3                  0                4              13                 0   \n",
       "4                  0                3               7                 0   \n",
       "\n",
       "   text_vid_count  \n",
       "0               0  \n",
       "1               0  \n",
       "2               0  \n",
       "3               0  \n",
       "4               0  "
      ]
     },
     "execution_count": 106,
     "metadata": {},
     "output_type": "execute_result"
    }
   ],
   "source": [
    "df1.head()"
   ]
  },
  {
   "cell_type": "code",
   "execution_count": 107,
   "metadata": {},
   "outputs": [
    {
     "data": {
      "text/plain": [
       "(57758, 13)"
      ]
     },
     "execution_count": 107,
     "metadata": {},
     "output_type": "execute_result"
    }
   ],
   "source": [
    "df1.shape"
   ]
  },
  {
   "cell_type": "code",
   "execution_count": 104,
   "metadata": {
    "collapsed": true
   },
   "outputs": [],
   "source": [
    "result = pd.concat([df['guid'], df1], axis=1)"
   ]
  },
  {
   "cell_type": "code",
   "execution_count": 105,
   "metadata": {},
   "outputs": [
    {
     "data": {
      "text/plain": [
       "(57866, 14)"
      ]
     },
     "execution_count": 105,
     "metadata": {},
     "output_type": "execute_result"
    }
   ],
   "source": [
    "result.shape"
   ]
  },
  {
   "cell_type": "code",
   "execution_count": null,
   "metadata": {
    "collapsed": true
   },
   "outputs": [],
   "source": [
    "result"
   ]
  },
  {
   "cell_type": "code",
   "execution_count": null,
   "metadata": {
    "collapsed": true
   },
   "outputs": [],
   "source": []
  },
  {
   "cell_type": "code",
   "execution_count": null,
   "metadata": {
    "collapsed": true
   },
   "outputs": [],
   "source": []
  },
  {
   "cell_type": "code",
   "execution_count": null,
   "metadata": {
    "collapsed": true
   },
   "outputs": [],
   "source": []
  }
 ],
 "metadata": {
  "kernelspec": {
   "display_name": "Python 3",
   "language": "python",
   "name": "python3"
  },
  "language_info": {
   "codemirror_mode": {
    "name": "ipython",
    "version": 3
   },
   "file_extension": ".py",
   "mimetype": "text/x-python",
   "name": "python",
   "nbconvert_exporter": "python",
   "pygments_lexer": "ipython3",
   "version": "3.6.3"
  }
 },
 "nbformat": 4,
 "nbformat_minor": 2
}
