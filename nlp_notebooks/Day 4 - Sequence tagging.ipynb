{
 "cells": [
  {
   "cell_type": "markdown",
   "metadata": {
    "collapsed": true
   },
   "source": [
    "# PoS tagging and entity extraction\n",
    "\n",
    "Practical course material for the ASDM Class 09 (Text Mining) by Florian Leitner.\n",
    "\n",
    "© 2016-2017 Florian Leitner. All rights reserved.\n",
    "\n",
    "## Setup\n",
    "\n",
    "### NLTK\n",
    "\n",
    "NLTK-based NLP (should require no more additional steps):"
   ]
  },
  {
   "cell_type": "code",
   "execution_count": 3,
   "metadata": {
    "collapsed": true
   },
   "outputs": [],
   "source": [
    "from nltk import ne_chunk, pos_tag, word_tokenize as tokenize\n",
    "from nltk.stem.snowball import EnglishStemmer\n",
    "import nltk"
   ]
  },
  {
   "cell_type": "markdown",
   "metadata": {},
   "source": [
    "### Stanford CoreNLP Taggers\n",
    "\n",
    "Some of the Stanford [CoreNLP](https://stanfordnlp.github.io/CoreNLP/index.html) tools have wrappers provided by NLTK (Note: and therefore, this part assumes/requires you have **Java** installed on your machine!):\n",
    "\n",
    "Using those taggers via NLTK requires that you download the (_basic_) Stanford [PoS tagger](http://nlp.stanford.edu/software/tagger.shtml#Download) and [NER tagger](http://nlp.stanford.edu/software/CRF-NER.shtml#Download) ZIP packages, and put the following files from those two packages into a directory named \"`stanford`\" that itself should be located in the same directory as this notebook; If you cloned the tutorial from its repo, you already have the relevant directory and files in place.\n",
    "\n",
    "From the NER tagger archive, you need these two files:\n",
    "\n",
    "* `stanford-ner.jar`\n",
    "* `english.all.3class.distsim.crf.ser.gz`\n",
    "\n",
    "And from the PoS tagger:\n",
    "\n",
    "* `english-bidirectional-distsim.tagger`\n",
    "* `stanford-postagger.jar`\n",
    "\n",
    "Add the *full path* to the directories containing `stanford-postagger.jar` and `stanford-ner.jar` to your `CLASSPATH` environment variable and set a `STANFORD_MODELS` en environment variable pointing to the *full path* of this `stanford` directory itself. Make sure you launch the Jupyter Notebook command `jupyter-notebook` in the terminal you set those two environment variables.\n",
    "\n",
    "```bash\n",
    "export STANFORD_MODELS=`pwd`/stanford\n",
    "export CLASSPATH=$STANFORD_MODELS/stanford-ner.jar:$STANFORD_MODELS/stanford-postagger.jar\n",
    "```\n",
    "\n",
    "If you get stuck, follow the [full installation instructions](https://github.com/nltk/nltk/wiki/Installing-Third-Party-Software#stanford-tagger-ner-tokenizer-and-parser) from the NLTK Wiki."
   ]
  },
  {
   "cell_type": "markdown",
   "metadata": {},
   "source": [
    "### SpaCy\n",
    "\n",
    "The SpaCy NLP tool ([installation instructions](https://spacy.io/docs/usage/#installation) - [compressed form](https://spacy.io/docs/usage/lightning-tour)):"
   ]
  },
  {
   "cell_type": "code",
   "execution_count": 4,
   "metadata": {
    "collapsed": true
   },
   "outputs": [],
   "source": [
    "import spacy"
   ]
  },
  {
   "cell_type": "markdown",
   "metadata": {},
   "source": [
    "## Introduction\n",
    "\n",
    "In this class, we will explore Python-based means to apply the sequence tagging and chunking techniques discussed in class, namely part-of-speech tagging, named entity recognition (NER), and phrase chunking.\n",
    "\n",
    "Note that NER is the hardest topic of what we will be looking into today, not the least to the extremely broad range of entity types: e.g., corporations, persons, locations & geo-political entities [GPEs], consumer products, genes & proteins, chemicals, etc. - to name just a very small selection of the more popular entity types in NLP.\n",
    "\n",
    "A more in-depth introduction to most of what we are doing here - PoS tagging, chunking, NER - is well documented in the NLTK Book, [Chapter 7](http://www.nltk.org/book/ch07.html), which you might want to have study in depth if you want to get more serious with NLP in general.\n",
    "\n",
    "## Tagging, Chunking, and NER with NLTK (w/o CoreNLP)"
   ]
  },
  {
   "cell_type": "code",
   "execution_count": 3,
   "metadata": {},
   "outputs": [
    {
     "data": {
      "image/png": "[encoded data removed]",
      "text/plain": [
       "Tree('S', [('The', 'DT'), ('economist', 'NN'), Tree('PERSON', [('Jeffrey', 'NNP'), ('Sachs', 'NNP')]), ('coined', 'VBD'), ('the', 'DT'), ('term', 'NN'), ('``', '``'), ('shock', 'NN'), ('therapy', 'NN'), (\"''\", \"''\"), ('.', '.')])"
      ]
     },
     "execution_count": 3,
     "metadata": {},
     "output_type": "execute_result"
    }
   ],
   "source": [
    "def tagger_nltk(sentence):\n",
    "    return ne_chunk(pos_tag(tokenize(sentence)))\n",
    "\n",
    "tagger_nltk('The economist Jeffrey Sachs coined the term \"shock therapy\".')"
   ]
  },
  {
   "cell_type": "markdown",
   "metadata": {},
   "source": [
    "A more terminal-friendly tree-view using parenthesis:"
   ]
  },
  {
   "cell_type": "code",
   "execution_count": 4,
   "metadata": {},
   "outputs": [
    {
     "name": "stdout",
     "output_type": "stream",
     "text": [
      "(S\n",
      "  The/DT\n",
      "  economist/NN\n",
      "  (PERSON Jeffrey/NNP Sachs/NNP)\n",
      "  coined/VBD\n",
      "  the/DT\n",
      "  term/NN\n",
      "  ``/``\n",
      "  shock/NN\n",
      "  therapy/NN\n",
      "  ''/''\n",
      "  ./.)\n"
     ]
    }
   ],
   "source": [
    "tagger_nltk('The economist Jeffrey Sachs coined the term \"shock therapy\".').pprint()"
   ]
  },
  {
   "cell_type": "code",
   "execution_count": 5,
   "metadata": {},
   "outputs": [
    {
     "name": "stdout",
     "output_type": "stream",
     "text": [
      "(S\n",
      "  The/DT\n",
      "  (ORGANIZATION Google/NNP Nexus/NNP)\n",
      "  challenges/VBZ\n",
      "  the/DT\n",
      "  (ORGANIZATION iPhone/NN)\n",
      "  's/POS\n",
      "  dominance/NN\n",
      "  ./.)\n"
     ]
    }
   ],
   "source": [
    "tagger_nltk(\"The Google Nexus challenges the iPhone's dominance.\").pprint()"
   ]
  },
  {
   "cell_type": "markdown",
   "metadata": {},
   "source": [
    "Note some first errors: \"Google Nexus\" and \"iPhone\" are not organizations. In general, in my personal opinion, NER entity taggers are pretty good at detecting named entities - but once you want to separate out entity types at some high level of precision (90, 95, 99, ... % -- not to mention recall issues) on arbitrary input texts, you will start to see that even the best NER tools (say, Bi-LSTM neural networks with a final CRF layer) around today still make silly mistakes a human would not.\n",
    "\n",
    "In general, my advice is: Use NER to detect all potential named entity mention (of all types - organization, persons, locations, etc.) and then work out your own expert system for the entities you need, instead of hoping that your tagger fully learns the differences between the types. Or, if you are just in need of one entity type, you can train or use an existing model just for that entity types. But even then, I strongly advise to use post-processing of the entity detections with an expert dictionary of all valid names. At the very least, you should verify their plausiblity, like checking persons against a vast collection of names, or checking if that chemical fomula you detected as chemical would even just make sense.\n",
    "\n",
    "As to NLTK's \"default\", on-board tagging functionality via `ne_chunk( pos_tag( word_tokenize( sentence )))`, that certainly provides good-enough out-of-the-box results to play around with and make experiments/prototypes and blog posts, but if you need to provide high-quality results for some commericial or scientific application, you will very quickly be \"wanting more\".\n",
    "\n",
    "Therefore, here we will take a look at the [Stanford NER Tagger](http://nlp.stanford.edu/software/CRF-NER.shtml) and its [PoS Tagger](http://nlp.stanford.edu/software/tagger.shtml) with ready-made, trained models. Second, we will look at [SpaCy](https://spacy.io/), a  high-throughput NLP tool for Python that is similarly useful and performant as the Stanford Parser. The biggest difference between the two is maybe support for Chinese, Arabic, and French. To date (2017ish), SpaCy \"only\" supports English, German, and Spanish - but with the promise of more coming. Another significant difference are licenses: CoreNLP comes with the GPL, unless you pay Stanford for a closed-source license, while SpaCy operates under the Apache 2 license.\n",
    "\n",
    "## Stanford PoS and NER Tagging with NLTK+CoreNLP\n",
    "\n",
    "We can quickly access the two Stanford taggers via an API provided from NLTK. Note that this might not necessarily be the way you want to interact with the Stanford (Java) tools in a production setting. However, it is a quick and easy way to get a research prototype up and running.\n",
    "\n",
    "Let's ensure we have everything set up as needed: The JARs and models in a local subdirectory called `stanford`:"
   ]
  },
  {
   "cell_type": "code",
   "execution_count": 6,
   "metadata": {},
   "outputs": [
    {
     "name": "stdout",
     "output_type": "stream",
     "text": [
      "english-bidirectional-distsim.tagger\r\n",
      "english-bidirectional-distsim.tagger.props\r\n",
      "english.all.3class.distsim.crf.ser.gz\r\n",
      "english.all.3class.distsim.prop\r\n",
      "stanford-ner.jar\r\n",
      "stanford-postagger.jar\r\n"
     ]
    }
   ],
   "source": [
    "!ls stanford/"
   ]
  },
  {
   "cell_type": "markdown",
   "metadata": {},
   "source": [
    "And the two environment variables set to the **full path** of the `stanford-postagger.jar`, the `stanford-ner.jar`, and the model directory (itself):"
   ]
  },
  {
   "cell_type": "code",
   "execution_count": 7,
   "metadata": {},
   "outputs": [
    {
     "name": "stdout",
     "output_type": "stream",
     "text": [
      "CLASSPATH = /Users/fnl/Documents/ASDM Course - Text Mining/github/new_notebooks/stanford/stanford-postagger.jar:/Users/fnl/Documents/ASDM Course - Text Mining/github/new_notebooks/stanford/stanford-ner.jar\n",
      "STANFORD_MODELS =  /Users/fnl/Documents/ASDM Course - Text Mining/github/new_notebooks/stanford\n"
     ]
    }
   ],
   "source": [
    "import os\n",
    "\n",
    "print('CLASSPATH =', os.environ['CLASSPATH'])\n",
    "print('STANFORD_MODELS = ', os.environ['STANFORD_MODELS'])"
   ]
  },
  {
   "cell_type": "markdown",
   "metadata": {},
   "source": [
    "More info ambout the generic Stanford NLTK API can be found in the base class:"
   ]
  },
  {
   "cell_type": "code",
   "execution_count": 8,
   "metadata": {
    "scrolled": true
   },
   "outputs": [
    {
     "name": "stdout",
     "output_type": "stream",
     "text": [
      "Help on class StanfordTagger in module nltk.tag.stanford:\n",
      "\n",
      "class StanfordTagger(nltk.tag.api.TaggerI)\n",
      " |  An interface to Stanford taggers. Subclasses must define:\n",
      " |  \n",
      " |  - ``_cmd`` property: A property that returns the command that will be\n",
      " |    executed.\n",
      " |  - ``_SEPARATOR``: Class constant that represents that character that\n",
      " |    is used to separate the tokens from their tags.\n",
      " |  - ``_JAR`` file: Class constant that represents the jar file name.\n",
      " |  \n",
      " |  Method resolution order:\n",
      " |      StanfordTagger\n",
      " |      nltk.tag.api.TaggerI\n",
      " |      builtins.object\n",
      " |  \n",
      " |  Methods defined here:\n",
      " |  \n",
      " |  __init__(self, model_filename, path_to_jar=None, encoding='utf8', verbose=False, java_options='-mx1000m')\n",
      " |      Initialize self.  See help(type(self)) for accurate signature.\n",
      " |  \n",
      " |  parse_output(self, text, sentences=None)\n",
      " |  \n",
      " |  tag(self, tokens)\n",
      " |      Determine the most appropriate tag sequence for the given\n",
      " |      token sequence, and return a corresponding list of tagged\n",
      " |      tokens.  A tagged token is encoded as a tuple ``(token, tag)``.\n",
      " |      \n",
      " |      :rtype: list(tuple(str, str))\n",
      " |  \n",
      " |  tag_sents(self, sentences)\n",
      " |      Apply ``self.tag()`` to each element of *sentences*.  I.e.:\n",
      " |      \n",
      " |          return [self.tag(sent) for sent in sentences]\n",
      " |  \n",
      " |  ----------------------------------------------------------------------\n",
      " |  Data and other attributes defined here:\n",
      " |  \n",
      " |  __abstractmethods__ = frozenset({'_cmd'})\n",
      " |  \n",
      " |  ----------------------------------------------------------------------\n",
      " |  Methods inherited from nltk.tag.api.TaggerI:\n",
      " |  \n",
      " |  evaluate(self, gold)\n",
      " |      Score the accuracy of the tagger against the gold standard.\n",
      " |      Strip the tags from the gold standard text, retag it using\n",
      " |      the tagger, then compute the accuracy score.\n",
      " |      \n",
      " |      :type gold: list(list(tuple(str, str)))\n",
      " |      :param gold: The list of tagged sentences to score the tagger on.\n",
      " |      :rtype: float\n",
      " |  \n",
      " |  ----------------------------------------------------------------------\n",
      " |  Data descriptors inherited from nltk.tag.api.TaggerI:\n",
      " |  \n",
      " |  __dict__\n",
      " |      dictionary for instance variables (if defined)\n",
      " |  \n",
      " |  __weakref__\n",
      " |      list of weak references to the object (if defined)\n",
      "\n"
     ]
    }
   ],
   "source": [
    "from nltk.tag.stanford import StanfordTagger\n",
    "help(StanfordTagger)"
   ]
  },
  {
   "cell_type": "markdown",
   "metadata": {},
   "source": [
    "First, initialize the two taggers:"
   ]
  },
  {
   "cell_type": "code",
   "execution_count": 9,
   "metadata": {
    "collapsed": true
   },
   "outputs": [],
   "source": [
    "from nltk.tag.stanford import StanfordNERTagger\n",
    "from nltk.tag.stanford import StanfordPOSTagger\n",
    "\n",
    "ner = StanfordNERTagger('english.all.3class.distsim.crf.ser.gz')\n",
    "pos = StanfordPOSTagger('english-bidirectional-distsim.tagger')"
   ]
  },
  {
   "cell_type": "markdown",
   "metadata": {},
   "source": [
    "Second, let's get us word tokenization and some stemming support from NLTK."
   ]
  },
  {
   "cell_type": "code",
   "execution_count": 10,
   "metadata": {
    "collapsed": true
   },
   "outputs": [],
   "source": [
    "st = EnglishStemmer()"
   ]
  },
  {
   "cell_type": "markdown",
   "metadata": {},
   "source": [
    "With the NLTK stemmer and tokenizer, we can now set up a nice tagging pipeline: "
   ]
  },
  {
   "cell_type": "code",
   "execution_count": 11,
   "metadata": {
    "collapsed": true
   },
   "outputs": [],
   "source": [
    "def tagger_stanford(sentence):\n",
    "    tokens = tokenize(sentence)\n",
    "    stems = map(st.stem, tokens)\n",
    "    _, tags = zip(*pos.tag(tokens))\n",
    "    _, entities = zip(*ner.tag(tokens))\n",
    "    return list(zip(tokens, stems, tags, entities))"
   ]
  },
  {
   "cell_type": "code",
   "execution_count": 12,
   "metadata": {
    "collapsed": true
   },
   "outputs": [],
   "source": [
    "def pretty(sentence):\n",
    "    print(\"{: >15s} {: <15s} {: <5s} {}\\n\".format(\"Token\", \"Stem\", \"PoS\", \"NER\"))\n",
    "    for word in sentence:\n",
    "        print(\"{: >15s} {: <15s} {: <5s} {}\".format(*word))"
   ]
  },
  {
   "cell_type": "code",
   "execution_count": 13,
   "metadata": {},
   "outputs": [
    {
     "name": "stdout",
     "output_type": "stream",
     "text": [
      "          Token Stem            PoS   NER\n",
      "\n",
      "            The the             DT    O\n",
      "      economist economist       NN    O\n",
      "        Jeffrey jeffrey         NNP   PERSON\n",
      "          Sachs sach            NNP   PERSON\n",
      "         coined coin            VBD   O\n",
      "            the the             DT    O\n",
      "           term term            NN    O\n",
      "             `` ``              ``    O\n",
      "          shock shock           NN    O\n",
      "        therapy therapi         NN    O\n",
      "             '' ''              ''    O\n",
      "              . .               .     O\n"
     ]
    }
   ],
   "source": [
    "pretty(tagger_stanford('The economist Jeffrey Sachs coined the term \"shock therapy\".'))"
   ]
  },
  {
   "cell_type": "code",
   "execution_count": 14,
   "metadata": {},
   "outputs": [
    {
     "name": "stdout",
     "output_type": "stream",
     "text": [
      "          Token Stem            PoS   NER\n",
      "\n",
      "            The the             DT    O\n",
      "         Google googl           NNP   O\n",
      "          Nexus nexus           NNP   O\n",
      "     challenges challeng        VBZ   O\n",
      "            the the             DT    O\n",
      "         iPhone iphon           NNP   O\n",
      "             's 's              POS   O\n",
      "      dominance domin           NN    O\n",
      "              . .               .     O\n"
     ]
    }
   ],
   "source": [
    "pretty(tagger_stanford(\"The Google Nexus challenges the iPhone's dominance.\"))"
   ]
  },
  {
   "cell_type": "markdown",
   "metadata": {},
   "source": [
    "Now let's try some real-life sentence with the other entities this model can do: location and organization."
   ]
  },
  {
   "cell_type": "code",
   "execution_count": 15,
   "metadata": {},
   "outputs": [
    {
     "name": "stdout",
     "output_type": "stream",
     "text": [
      "          Token Stem            PoS   NER\n",
      "\n",
      "          India india           NNP   LOCATION\n",
      "           will will            MD    O\n",
      "             be be              VB    O\n",
      "     purchasing purchas         VBG   O\n",
      "       Predator predat          NNP   O\n",
      "         drones drone           NNS   O\n",
      "              , ,               ,     O\n",
      "              a a               DT    O\n",
      "         source sourc           NN    O\n",
      "             at at              IN    O\n",
      "       Lockheed lockhe          NNP   ORGANIZATION\n",
      "         Martin martin          NNP   ORGANIZATION\n",
      "       confirms confirm         VBZ   O\n",
      "              . .               .     O\n"
     ]
    }
   ],
   "source": [
    "pretty(tagger_stanford(\"India will be purchasing Predator drones, a source at Lockheed Martin confirms.\"))"
   ]
  },
  {
   "cell_type": "markdown",
   "metadata": {},
   "source": [
    "A little real-life trick: We replace the single-quote ASCII \"apostrophe\" with the proper Unicode apostrophe:"
   ]
  },
  {
   "cell_type": "code",
   "execution_count": 16,
   "metadata": {},
   "outputs": [
    {
     "name": "stdout",
     "output_type": "stream",
     "text": [
      "          Token Stem            PoS   NER\n",
      "\n",
      "            The the             DT    O\n",
      "         Google googl           NNP   O\n",
      "          Nexus nexus           NNP   O\n",
      "     challenges challeng        VBZ   O\n",
      "            the the             DT    O\n",
      "         iPhone iphon           NNP   O\n",
      "              ‘ ‘               CD    O\n",
      "              s s               NN    O\n",
      "      dominance domin           NN    O\n",
      "              . .               .     O\n"
     ]
    }
   ],
   "source": [
    "pretty(tagger_stanford('The Google Nexus challenges the iPhone‘s dominance.'))"
   ]
  },
  {
   "cell_type": "markdown",
   "metadata": {
    "collapsed": true
   },
   "source": [
    "Stanford's taggers correctly noticed that Google Nexus and iPhone are not person, location, or organization entities (the three entities the chosen model tags). But note the problems with non-ASCII character (the apostrophe here) (which is due to the **NLTK** tokenizer, not Stanford!); You will have to rigorously santize input if you do NLP with arbitrary text, and heavily test your setup for all [ir]regularities in the Unicode world.\n",
    "\n",
    "## PoS + NER with SpaCy\n",
    "\n",
    "Python has a great neural parser of its own, [SpaCy](https://spacy.io/). It can easily be [installed](https://spacy.io/docs/usage/) from both Conda and PIP3. And don't forget to [download, install and test the English language model](https://spacy.io/docs/usage/models) with:\n",
    "\n",
    "```bash\n",
    "python -m spacy download en\n",
    "```"
   ]
  },
  {
   "cell_type": "code",
   "execution_count": 5,
   "metadata": {},
   "outputs": [],
   "source": [
    "tagger_spacy = spacy.load('en')"
   ]
  },
  {
   "cell_type": "code",
   "execution_count": 18,
   "metadata": {
    "collapsed": true
   },
   "outputs": [],
   "source": [
    "def show(doc):\n",
    "    print(\"{: >15s} {: <15s} {}\\n\".format(\"Token\", \"Lemma\", \"PoS\"))\n",
    "    for token in doc:\n",
    "        print(\"{: >15s} {: <15s} {}:{}\".format(\n",
    "            str(token), token.lemma_, token.pos_, token.tag_))\n",
    "    if doc.ents:\n",
    "        print(\"\\nTYPED PROPER NOUNS\")\n",
    "        for entity in doc.ents:\n",
    "            print('\"{}\" -> {}'.format(entity, entity.label_))"
   ]
  },
  {
   "cell_type": "code",
   "execution_count": 19,
   "metadata": {},
   "outputs": [
    {
     "name": "stdout",
     "output_type": "stream",
     "text": [
      "          Token Lemma           PoS\n",
      "\n",
      "            The the             DET:DT\n",
      "      economist economist       NOUN:NN\n",
      "        Jeffrey jeffrey         PROPN:NNP\n",
      "          Sachs sachs           PROPN:NNP\n",
      "         coined coin            VERB:VBD\n",
      "            the the             DET:DT\n",
      "           term term            NOUN:NN\n",
      "              \" \"               PUNCT:``\n",
      "          shock shock           NOUN:NN\n",
      "        therapy therapy         NOUN:NN\n",
      "              \" \"               PUNCT:''\n",
      "              . .               PUNCT:.\n",
      "\n",
      "TYPED PROPER NOUNS\n",
      "\"Jeffrey Sachs\" -> PERSON\n"
     ]
    }
   ],
   "source": [
    "show(tagger_spacy('The economist Jeffrey Sachs coined the term \"shock therapy\".'))"
   ]
  },
  {
   "cell_type": "code",
   "execution_count": 20,
   "metadata": {},
   "outputs": [
    {
     "name": "stdout",
     "output_type": "stream",
     "text": [
      "          Token Lemma           PoS\n",
      "\n",
      "            The the             DET:DT\n",
      "         Google google          PROPN:NNP\n",
      "          Nexus nexus           PROPN:NNP\n",
      "     challenges challenge       VERB:VBZ\n",
      "            the the             DET:DT\n",
      "         iPhone iphone          PROPN:NNP\n",
      "             's 's              PART:POS\n",
      "      dominance dominance       NOUN:NN\n",
      "              . .               PUNCT:.\n",
      "\n",
      "TYPED PROPER NOUNS\n",
      "\"The Google Nexus\" -> ORG\n"
     ]
    }
   ],
   "source": [
    "show(tagger_spacy(\"The Google Nexus challenges the iPhone's dominance.\"))"
   ]
  },
  {
   "cell_type": "code",
   "execution_count": 21,
   "metadata": {},
   "outputs": [
    {
     "name": "stdout",
     "output_type": "stream",
     "text": [
      "          Token Lemma           PoS\n",
      "\n",
      "          India india           PROPN:NNP\n",
      "           will will            VERB:MD\n",
      "             be be              VERB:VB\n",
      "     purchasing purchase        VERB:VBG\n",
      "       Predator predator        PROPN:NNP\n",
      "         drones drone           NOUN:NNS\n",
      "              , ,               PUNCT:,\n",
      "              a a               DET:DT\n",
      "         source source          NOUN:NN\n",
      "             at at              ADP:IN\n",
      "       Lockheed lockheed        PROPN:NNP\n",
      "         Martin martin          PROPN:NNP\n",
      "       confirms confirm         VERB:VBZ\n",
      "              . .               PUNCT:.\n",
      "\n",
      "TYPED PROPER NOUNS\n",
      "\"India\" -> GPE\n",
      "\"Lockheed\" -> ORG\n",
      "\"Martin\" -> PERSON\n"
     ]
    }
   ],
   "source": [
    "show(tagger_spacy(\"India will be purchasing Predator drones, a source at Lockheed Martin confirms.\"))"
   ]
  },
  {
   "cell_type": "markdown",
   "metadata": {},
   "source": [
    "SpaCy's PoS tagging and chunking abilities are quite good, but it its NER **type** support isn't very strong. But do note it correctly recognized all **proper nouns**, so it did find all named entities - it just isn't very good at assigning types to them. But as said, as far as type-specific NER solutions go, you are probably better of training your own tagger. Also note that SpaCy, just like NLTK, isn't very good at handling non-ASCII characters, either:"
   ]
  },
  {
   "cell_type": "code",
   "execution_count": 22,
   "metadata": {},
   "outputs": [
    {
     "name": "stdout",
     "output_type": "stream",
     "text": [
      "          Token Lemma           PoS\n",
      "\n",
      "            The the             DET:DT\n",
      "         Google google          PROPN:NNP\n",
      "          Nexus nexus           PROPN:NNP\n",
      "     challenges challenge       VERB:VBZ\n",
      "            the the             DET:DT\n",
      "       iPhone‘s iphone‘s        ADJ:JJ\n",
      "      dominance dominance       NOUN:NN\n",
      "              . .               PUNCT:.\n",
      "\n",
      "TYPED PROPER NOUNS\n",
      "\"The Google Nexus\" -> ORG\n"
     ]
    }
   ],
   "source": [
    "show(tagger_spacy(\"The Google Nexus challenges the iPhone‘s dominance.\"))"
   ]
  },
  {
   "cell_type": "markdown",
   "metadata": {},
   "source": [
    "## Discussion\n",
    "\n",
    "Overall, between CoreNLP and SpaCy, you will find little difference except for language support and licensing, and CoreNLP's superior (and probably world-leading) NER *type* detection - any of which, of course, can be mission ciritical...\n",
    "\n",
    "Another mission-cricial issue is that most NLP systems make extensive use of letter case information; Input that is all lower- or upper-case can often have devastating effects on the results:"
   ]
  },
  {
   "cell_type": "code",
   "execution_count": 23,
   "metadata": {},
   "outputs": [
    {
     "name": "stdout",
     "output_type": "stream",
     "text": [
      "          Token Lemma           PoS\n",
      "\n",
      "            THE the             DET:DT\n",
      "         GOOGLE google          PROPN:NNP\n",
      "          NEXUS nexus           PROPN:NNP\n",
      "     CHALLENGES challenges      PROPN:NNP\n",
      "            THE the             DET:DT\n",
      "        IPHONES iphones         PROPN:NNP\n",
      "             'S 's              PART:POS\n",
      "      DOMINANCE dominance       NOUN:NNS\n",
      "              . .               PUNCT:.\n",
      "\n",
      "TYPED PROPER NOUNS\n",
      "\"IPHONES\" -> ORG\n"
     ]
    }
   ],
   "source": [
    "show(tagger_spacy(\"THE GOOGLE NEXUS CHALLENGES THE IPHONES'S DOMINANCE.\"))"
   ]
  },
  {
   "cell_type": "markdown",
   "metadata": {},
   "source": [
    "## Conclusions\n",
    "\n",
    "For professional information extraction with NER and entity linking, the tools here will be insufficient and you will probably need to learn to train your own sequence taggers and expert systems that then match and **disambiguate** all found named entities against your reference data, possibly even providing special parser facilities for detecting entities that your taggers will miss. To give you the right idea: We've just only looked at the entry to the IE/NER rabbit hole...\n",
    "\n",
    "## Aside: noun-phrase chunking with SpaCy\n",
    "\n",
    "Finding all noun phrases can be extremely useful, e.g., to detect keywords or all potential named entity mentions.\n",
    "Here's how to do that with SpaCy:"
   ]
  },
  {
   "cell_type": "code",
   "execution_count": 9,
   "metadata": {},
   "outputs": [
    {
     "name": "stdout",
     "output_type": "stream",
     "text": [
      "Google Nexus\n",
      "the iPhone‘s dominance\n"
     ]
    }
   ],
   "source": [
    "for chunk in tagger_spacy(\"The Google Nexus challenges the iPhone‘s dominance.\").noun_chunks:\n",
    "    print(chunk)"
   ]
  },
  {
   "cell_type": "code",
   "execution_count": 10,
   "metadata": {},
   "outputs": [
    {
     "name": "stdout",
     "output_type": "stream",
     "text": [
      "India\n",
      "Predator drones\n",
      "a source\n",
      "Lockheed Martin\n"
     ]
    }
   ],
   "source": [
    "for chunk in tagger_spacy(\"India will be purchasing Predator drones, a source at Lockheed Martin confirms.\").noun_chunks:\n",
    "    print(chunk)"
   ]
  }
 ],
 "metadata": {
  "kernelspec": {
   "display_name": "Python 3",
   "language": "python",
   "name": "python3"
  },
  "language_info": {
   "codemirror_mode": {
    "name": "ipython",
    "version": 3
   },
   "file_extension": ".py",
   "mimetype": "text/x-python",
   "name": "python",
   "nbconvert_exporter": "python",
   "pygments_lexer": "ipython3",
   "version": "3.6.1"
  }
 },
 "nbformat": 4,
 "nbformat_minor": 2
}
