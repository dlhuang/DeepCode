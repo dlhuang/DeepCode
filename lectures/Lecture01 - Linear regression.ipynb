{
 "cells": [
  {
   "cell_type": "markdown",
   "metadata": {},
   "source": [
    "Given data like this, how can we learn to predict the prices of other houses in Portland, as a function of the size of their living areas?\n",
    "To establish notation for future use, we’ll use $x^{(i)}$ to denote the “input”\n",
    "variables (living area in this example), also called input features, and $y^{(i)}$\n",
    "to denote the “output” or target variable that we are trying to predict\n",
    "(price). A pair $(x^{(i)} , y^{(i)} )$ is called a training example, and the dataset\n",
    "that we’ll be using to learn—a list of m training examples ${(x^{(i)} , y^{(i)} ); i =\n",
    "1, . . . , m}$—is called a training set. Note that the superscript “(i)” in the\n",
    "notation is simply an index into the training set, and has nothing to do with\n",
    "exponentiation. We will also use $X$ denote the space of input values, and $Y$\n",
    "the space of output values.\n",
    "\n",
    "To describe the supervised learning problem slightly more formally, our\n",
    "goal is, given a training set, to learn a function $h:X\\in Y$ so that $h(x)$ is a\n",
    "“good” predictor for the corresponding value of y. For historical reasons, this\n",
    "function h is called a hypothesis. Seen pictorially, the process is therefore\n",
    "like this:\n",
    "<img src='../images/hypothesis.png' width='300' alt=''>\n",
    "\n",
    "When the target variable that we’re trying to predict is continuous, such\n",
    "as in our housing example, we call the learning problem a regression prob-\n",
    "lem. When y can take on only a small number of discrete values (such as\n",
    "if, given the living area, we wanted to predict if a dwelling is a house or an\n",
    "apartment, say), we call it a classification problem."
   ]
  },
  {
   "cell_type": "markdown",
   "metadata": {},
   "source": [
    "To perform supervised learning, we must decide how we’re going to rep-\n",
    "resent functions/hypotheses h in a computer. As an initial choice, let’s say\n",
    "we decide to approximate $y$ as a linear function of $x$:\n",
    "\n",
    "$$h_{\\theta} = \\theta_0 + \\theta_1x$$\n",
    "\n",
    "Here, the $θ_i’s$ are the parameters (also called weights) parameterizing the\n",
    "space of linear functions mapping from $X$ to $Y$. When there is no risk of\n",
    "confusion, we will drop the $\\theta$ subscript in $h_{\\theta}(x)$, and write it more simply as\n",
    "$h(x)$. To simplify our notation, we also introduce the convention of letting\n",
    "$x_0 = 1$ (this is the intercept term), so that\n",
    "\n",
    "$$h(x) = \\sum_{i=1}^m \\theta_ix_i = \\theta^Tx$$\n",
    "\n",
    "where on the right-hand side above we are viewing $\\theta$ and $x$ both as vectors,\n",
    "and here $n$ is the number of input variables (not counting $x_0$). Now, given a training set, how do we pick, or learn, the parameters $\\theta$? One reasonable method seems to be to make $h(x)$ close to $y$, at least for the training examples we have. To formalize this, we will define a function that measures, for each value of the $θ’s$, how close the $h(x^{(i)})$'s are to the corresponding $y^{(i)}$'s. We define the cost or loss function $L(h({x}),y)$, is some measure of prediction error. There are many types of loss functions.\n",
    "* L1-norm: $L(h({x}),y) = \\|h({x}) - y\\|_1$ -- city block distance -- lasso\n",
    "* L2-norm: $L(h({x}),y) = \\|h({x}) - y\\|_2$ -- just the euclidian -- ridge\n",
    "* p-norm: $L(h({x}),y) = \\|h({x}) - y\\|_p$ -- more generally speaking\n",
    "* Square-error: $L(h({x}),y) = \\|h({x}) - y\\|_2^2$ -- used in linear regression and logistic regression\n",
    "* Hinge-loss: $L(h({x}),y) = \\text{max}(0,1-yh({x}))$ -- used in SVMs for classification.\n",
    "* Exponential-loss: $L(h({x}),y) = e^{-yh({x})}$ -- used in adaboost for classification\n",
    "\n",
    "The loss function is equal to the negated conditional log-likelihood\n",
    "\\begin{align*}\n",
    "L(h({x}),y) &= - \\log p(\\mathcal{D}|{w})\\\\\n",
    "&= - \\sum_m \\log p(y_m|{x}_m,{w})\n",
    "\\end{align*}\n",
    "\n",
    "Given some data, we can approximate the expected risk with the empirical risk given by\n",
    "\\begin{align*}\n",
    "R_{\\mathcal{D}}(h) &= \\frac{1}{m} \\sum_m L(h({x}_m),y_m)\n",
    "\\end{align*}\n",
    "Also, with infinite data, empirical risk is the expected risk\n",
    "\\begin{align*}\n",
    "\\lim_{m \\to \\infty} R_{\\mathcal{D}}(h) &= R(h)\n",
    "\\end{align*}\n",
    "\n",
    "This gives us an empirical risk (or cross-entropy) of\n",
    "\\begin{align*}\n",
    "R_{\\mathcal{D}}(h) = \\frac{1}{m} \\sum_m \\|y_m - h({x})\\|_2^2\n",
    "\\end{align*}\n",
    "In this case, empirical risk is often referred to as the residual-sum-of-squares (RSS) or mean-square-error (MSE). The cost function used here defined as:\n",
    "\n",
    "$$J(\\theta) = \\frac{1}{2m}\\sum_{i=1}^m(h_{\\theta}(x^{(i)})-y^{(i)})^2$$\n",
    "\n",
    "We want to choose $\\theta$ so as to minimize $J(\\theta)$. To do so, let’s use a search\n",
    "algorithm that starts with some “initial guess” for $\\theta$, and that repeatedly\n",
    "changes $\\theta$ to make $J(\\theta)$ smaller, until hopefully we converge to a value of\n",
    "$\\theta$ that minimizes $J(\\theta)$. Specifically, let’s consider the gradient descent\n",
    "algorithm, which starts with some initial $\\theta$, and repeatedly performs the\n",
    "update:\n",
    "\n",
    "$$\\theta_j = \\theta_j - \\alpha \\frac{\\partial}{\\partial{\\theta_{j}}}J(\\theta)$$\n",
    "\n",
    "\n",
    "(This update is simultaneously performed for all values of $j = 0, . . . , n.$)\n",
    "Here, $\\alpha$ is called the learning rate. This is a very natural algorithm that\n",
    "repeatedly takes a step in the direction of steepest decrease of $J$.\n",
    "In order to implement this algorithm, we have to work out what is the\n",
    "partial derivative term on the right hand side. Let’s first work it out for the\n",
    "case of if we have only one training example $(x, y)$, so that we can neglect\n",
    "the sum in the definition of $J$. We have:\n",
    "\\begin{align}\n",
    "\\frac{\\partial}{\\partial{\\theta_{j}}}J(\\theta) &= \\frac{\\partial}{\\partial{\\theta_{j}}}\\frac{1}{2}(h_{\\theta}(x)-y)^2\\\\\n",
    "&= 2.\\frac{1}{2}(h_{\\theta}(x)-y)\\frac{\\partial}{\\partial{\\theta_{j}}}(h_{\\theta}(x)-y)\\\\\n",
    "&= (h_{\\theta}(x)-y)\\frac{\\partial}{\\partial{\\theta_{j}}}(\\sum_{i=0}^{n}\\theta_i x_i-y)\\\\\n",
    "&= (h_{\\theta}(x)-y)x_j\n",
    "\\end{align}\n",
    "\n",
    "Using the rule for a single training example, we derive the gradient descent algorithm for linear regression:\n",
    "\n",
    "\\begin{align}\n",
    "repeat \\{\\\\\n",
    "&\\theta_j = \\theta_j - \\alpha \\frac{1}{m}\\sum_{i=1}^m(h_{\\theta}(x^{(i)})-y^{(i)}).x^{(i)}_j\\\\\n",
    "\\}\n",
    "\\end{align}\n",
    "\n",
    "Simultaneously update all values of $j = 0, . . . , n.$"
   ]
  },
  {
   "cell_type": "markdown",
   "metadata": {},
   "source": [
    "#### Regularization\n",
    "One problem that frequently occures in linear regression is overfitting. The standard solution for previnting overfitting is regularization. Since we know that the empirical risk will underestimate the true risk, add a penalty to complex functions $h$ to try to compensate for this. Then, instead of doing\n",
    "$$\n",
    "min_h R_D(h) = E\\big[L(h({x}_n),y_n)\\big]\n",
    "$$\n",
    "\n",
    "we can do\n",
    "$$\n",
    "min_h R_D(h) + \\lambda h(\\theta)\n",
    "$$\n",
    "Notice that we can rephrase this unconstrained linear optimization as an constrained optimization. For any given $\\lambda$ there is a $c$ such that the same solution can be obtained from\n",
    "$$\n",
    "min_f R_D(h) \\\\\n",
    "s.t.\\;\\;\\;h(\\theta) \\le c\n",
    "$$\n",
    "\n",
    "**The Lasso estimator** is useful to impose sparsity on the coefficients. In other words, it is to be prefered if we believe that many of the features are not relevant.\n",
    "\n",
    "$$\\hat{\\theta}_{lasso} = \\text{argmin}_{\\theta}\\left\\{\\frac{1}{2}\\sum_{i=1}^N (y_i - \\sum_{j=0}^k x_{ij} \\theta_j)^2 + \\lambda \\sum_{j=1}^k |\\theta_j| \\right\\}$$\n",
    "\n",
    "The **ridge estimator** is a simple, computationally efficient regularization for linear regression.\n",
    "\n",
    "$$\\hat{\\theta}_{ridge} = \\text{argmin}_{\\theta}\\left\\{\\sum_{i=1}^N (y_i - \\sum_{j=0}^k x_{ij} \\theta_j)^2 + \\lambda \\sum_{j=1}^k \\theta_j^2 \\right\\}$$\n",
    "\n",
    "**ElasticNet** is a compromise between lasso and ridge regression.\n",
    "\n",
    "$$\\hat{\\theta}_{elastic} = \\text{argmin}_{\\theta}\\left\\{\\frac{1}{2}\\sum_{i=1}^N (y_i - \\sum_{j=0}^k x_{ij} \\theta_j)^2 + (1 - \\alpha) \\sum_{j=1}^k \\theta^2_j + \\alpha \\sum_{j=1}^k |\\theta_j| \\right\\}$$\n"
   ]
  },
  {
   "cell_type": "markdown",
   "metadata": {},
   "source": [
    "### Normal equation\n",
    "Method of solve for $\\theta$ analytically. Intuition: Given a training set ${(x^{(i)} , y^{(i)} ); i =\n",
    "1, . . . , m}$, We know the cost function for linear regression is\n",
    "    \n",
    "$$J(\\theta) = \\frac{1}{2}\\sum_{i=1}^m(h_{\\theta}(x^{(i)})-y^{(i)})^2 = \\frac{1}{2}(X\\theta-\\hat{y})^T(X\\theta-\\hat{y})$$\n",
    "\n",
    "\\begin{align*}\n",
    "\\nabla_{\\theta}J(\\theta) &= \\nabla_{\\theta} \\frac{1}{2}(X\\theta-\\hat{y})^T(X\\theta-\\hat{y})\\\\\n",
    "&= \\frac{1}{2} \\nabla_{\\theta} (\\theta^T X^T X\\theta - \\theta^TX^T\\hat{y} - \\hat{y}^TX\\theta + \\hat{y}^T\\hat{y}) \\\\&= \\frac{1}{2} \\nabla_{\\theta} \\;{tr}(\\theta^T X^T X\\theta - \\theta^TX^T\\hat{y} - \\hat{y}X\\theta + \\hat{y}^T\\hat{y}) \\\\\n",
    "&= \\frac{1}{2} \\nabla_{\\theta} ({tr}(\\theta^T X^T X\\theta) - 2{tr}(\\hat{y}^T X\\theta)) \\\\\n",
    "&= \\frac{1}{2} \\nabla_{\\theta} (X^TX\\theta + X^TX\\theta - 2 X^T\\hat{y}) \\\\\n",
    "&= (X^TX\\theta - X^T\\hat{y}) \\\\\n",
    "0 &= (X^TX\\theta - X^T\\hat{y}) \\\\\n",
    "X^TX\\theta &= X^T\\hat{y}\\\\\n",
    "\\therefore \\theta &= (X^TX)^{-1}X^T\\hat{y}\n",
    "\\end{align*}\n",
    "\n",
    "The value of $\\theta$ that minimize $J(\\theta)$ is given by the closed form equation above."
   ]
  },
  {
   "cell_type": "markdown",
   "metadata": {},
   "source": [
    "## Tensorflow implementation"
   ]
  },
  {
   "cell_type": "code",
   "execution_count": 64,
   "metadata": {},
   "outputs": [
    {
     "data": {
      "text/html": [
       "<div>\n",
       "<style scoped>\n",
       "    .dataframe tbody tr th:only-of-type {\n",
       "        vertical-align: middle;\n",
       "    }\n",
       "\n",
       "    .dataframe tbody tr th {\n",
       "        vertical-align: top;\n",
       "    }\n",
       "\n",
       "    .dataframe thead th {\n",
       "        text-align: right;\n",
       "    }\n",
       "</style>\n",
       "<table border=\"1\" class=\"dataframe\">\n",
       "  <thead>\n",
       "    <tr style=\"text-align: right;\">\n",
       "      <th></th>\n",
       "      <th>0</th>\n",
       "      <th>1</th>\n",
       "    </tr>\n",
       "  </thead>\n",
       "  <tbody>\n",
       "    <tr>\n",
       "      <th>0</th>\n",
       "      <td>6.1101</td>\n",
       "      <td>17.5920</td>\n",
       "    </tr>\n",
       "    <tr>\n",
       "      <th>1</th>\n",
       "      <td>5.5277</td>\n",
       "      <td>9.1302</td>\n",
       "    </tr>\n",
       "    <tr>\n",
       "      <th>2</th>\n",
       "      <td>8.5186</td>\n",
       "      <td>13.6620</td>\n",
       "    </tr>\n",
       "    <tr>\n",
       "      <th>3</th>\n",
       "      <td>7.0032</td>\n",
       "      <td>11.8540</td>\n",
       "    </tr>\n",
       "    <tr>\n",
       "      <th>4</th>\n",
       "      <td>5.8598</td>\n",
       "      <td>6.8233</td>\n",
       "    </tr>\n",
       "  </tbody>\n",
       "</table>\n",
       "</div>"
      ],
      "text/plain": [
       "        0        1\n",
       "0  6.1101  17.5920\n",
       "1  5.5277   9.1302\n",
       "2  8.5186  13.6620\n",
       "3  7.0032  11.8540\n",
       "4  5.8598   6.8233"
      ]
     },
     "execution_count": 64,
     "metadata": {},
     "output_type": "execute_result"
    }
   ],
   "source": [
    "%matplotlib inline\n",
    "import numpy as np\n",
    "import tensorflow as tf\n",
    "import matplotlib.pyplot as plt\n",
    "import pandas as pd\n",
    "\n",
    "data = pd.read_csv('../exercise/ex1/data/ex1data1.txt', sep=\",\", header=None)\n",
    "data.head()"
   ]
  },
  {
   "cell_type": "code",
   "execution_count": 65,
   "metadata": {},
   "outputs": [
    {
     "data": {
      "image/png": "[encoded data removed]",
      "text/plain": [
       "<Figure size 432x288 with 1 Axes>"
      ]
     },
     "metadata": {},
     "output_type": "display_data"
    }
   ],
   "source": [
    "plt.scatter(data[0], data[1])\n",
    "plt.show()"
   ]
  },
  {
   "cell_type": "markdown",
   "metadata": {},
   "source": [
    "### Feature Normalization\n",
    "Standardization of a dataset is a common requirement for many machine learning estimators: they might behave badly if the individual feature do not more or less look like standard normally distributed data (e.g. Gaussian with 0 mean and unit variance).\n",
    "#### Z-score normalization\n",
    "The result of **standardization** (or **Z-score normalization**) is that the features will be rescaled so that they'll have the properties of a standard normal distribution with $\\mu = 0$ and $\\sigma = 1$, where $\\mu$ is the mean (average) and $\\sigma$ is the standard deviation from the mean; standard scores (also called ***z*** scores) of the samples are calculated as follows:\n",
    "\n",
    "\\begin{equation} z = \\frac{x - \\mu}{\\sigma}\\end{equation} \n",
    "\n",
    "#### Min-Max scaling\n",
    "Standardizing the features so that they are centered around 0 with a standard deviation of 1 is not only important if we are comparing measurements that have different units, but it is also a general requirement for many machine learning algorithms. An alternative approach to Z-score normalization (or standardization) is the so-called **Min-Max scaling** (often also simply called \"normalization\" - a common cause for ambiguities). In this approach, the data is scaled to a fixed range - usually 0 to 1. The cost of having this bounded range - in contrast to standardization - is that we will end up with smaller standard deviations, which can suppress the effect of outliers.\n",
    "\n",
    "A Min-Max scaling is typically done via the following equation:\n",
    "\n",
    "\\begin{equation} X_{norm} = \\frac{X - X_{min}}{X_{max}-X_{min}} \\end{equation}"
   ]
  },
  {
   "cell_type": "code",
   "execution_count": 66,
   "metadata": {
    "scrolled": false
   },
   "outputs": [],
   "source": [
    "def z_score_normalize(X):\n",
    "    X = (X - X.mean()) / X.std()\n",
    "    \n",
    "    return X"
   ]
  },
  {
   "cell_type": "markdown",
   "metadata": {},
   "source": [
    "\\begin{align*}\n",
    "h_{\\theta} = y_{predicted} = {w}^T{x}\n",
    "\\end{align*}\n",
    "\\begin{align*}\n",
    "J(\\theta) = \\frac{1}{2m} \\sum_{i=1}^m (y_i - y_{predicted})^2\n",
    "\\end{align*}\n",
    "Here, $\\theta=w$"
   ]
  },
  {
   "cell_type": "code",
   "execution_count": 67,
   "metadata": {},
   "outputs": [],
   "source": [
    "learning_rate = 0.01\n",
    "epochs = 100\n",
    "\n",
    "d_norm = z_score_normalize(data)\n",
    "train_X = d_norm[0]\n",
    "train_Y = d_norm[1]\n",
    "\n",
    "n_samples = data.shape[0]"
   ]
  },
  {
   "cell_type": "code",
   "execution_count": 68,
   "metadata": {},
   "outputs": [],
   "source": [
    "X = tf.placeholder(tf.float32, name= 'X')\n",
    "Y = tf.placeholder(tf.float32, name= 'Y')\n",
    "\n",
    "W = tf.Variable(np.random.normal(), name='weight')\n",
    "b = tf.Variable(np.random.normal(), name='bias')"
   ]
  },
  {
   "cell_type": "markdown",
   "metadata": {},
   "source": [
    "\n",
    "$$\\theta_j = \\theta_j - \\alpha \\frac{1}{m}\\sum_{i=1}^{m}(h_{\\theta}(x^{(i)}) - y^{(i)}).x^{(i)}_j$$"
   ]
  },
  {
   "cell_type": "code",
   "execution_count": 69,
   "metadata": {},
   "outputs": [],
   "source": [
    "pred = tf.add(tf.multiply(X, W), b)\n",
    "\n",
    "cost = tf.reduce_sum(tf.pow(pred - Y, 2)) / (2 * n_samples)\n",
    "\n",
    "optimizer = tf.train.GradientDescentOptimizer(learning_rate).minimize(cost)\n",
    "\n",
    "init = tf.global_variables_initializer()"
   ]
  },
  {
   "cell_type": "code",
   "execution_count": 73,
   "metadata": {},
   "outputs": [
    {
     "name": "stdout",
     "output_type": "stream",
     "text": [
      "Traning cost= 0.19458192586898804, weight= 0.5376732349395752, bias= 0.07124785333871841\n"
     ]
    },
    {
     "data": {
      "image/png": "[encoded data removed]",
      "text/plain": [
       "<Figure size 432x288 with 1 Axes>"
      ]
     },
     "metadata": {},
     "output_type": "display_data"
    }
   ],
   "source": [
    "with tf.Session() as sess:\n",
    "    sess.run(init)\n",
    "    for epoch in range(epochs):\n",
    "        sess.run(optimizer, feed_dict={X: train_X, Y: train_Y})\n",
    "    \n",
    "    traning_cost = sess.run(cost, feed_dict={X: train_X, Y: train_Y})\n",
    "    weight = sess.run(W)\n",
    "    bias = sess.run(b)\n",
    "    print('Traning cost= {}, weight= {}, bias= {}'.format(traning_cost, weight, bias))\n",
    "    \n",
    "    plt.scatter(train_X, train_Y, label='Normalized data')\n",
    "    plt.plot(train_X, weight * train_X + bias, label='Fitted line')\n",
    "    plt.show()"
   ]
  },
  {
   "cell_type": "code",
   "execution_count": null,
   "metadata": {},
   "outputs": [],
   "source": []
  }
 ],
 "metadata": {
  "kernelspec": {
   "display_name": "Python 3",
   "language": "python",
   "name": "python3"
  },
  "language_info": {
   "codemirror_mode": {
    "name": "ipython",
    "version": 3
   },
   "file_extension": ".py",
   "mimetype": "text/x-python",
   "name": "python",
   "nbconvert_exporter": "python",
   "pygments_lexer": "ipython3",
   "version": "3.6.3"
  }
 },
 "nbformat": 4,
 "nbformat_minor": 1
}
