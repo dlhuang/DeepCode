{
 "cells": [
  {
   "cell_type": "markdown",
   "metadata": {},
   "source": [
    "# Document clustering with LSI, LDA, and HDP\n",
    "\n",
    "Practical course material for the ASDM Class 09 (Text Mining) by Florian Leitner.\n",
    "\n",
    "© 2017 Florian Leitner. All rights reserved.\n",
    "\n",
    "## Introduction\n",
    "\n",
    "This notebook discusses a use-case of LSI, using [gensim](http://radimrehurek.com/gensim/index.html), closely following [its own tutorial for topic modeling](https://nbviewer.jupyter.org/github/RaRe-Technologies/gensim/blob/develop/docs/notebooks/gensim_news_classification.ipynb).\n",
    "\n",
    "## Setup\n",
    "\n",
    "The tutorial corpus gensim provides is the [Lee Background Corpus](http://www.socsci.uci.edu/~mdlee/lee_pincombe_welsh_document.PDF), but shortened to 300 documents, from the Australian Broadcasing Coporation's news mail serivce, and from around the years 2000-2001."
   ]
  },
  {
   "cell_type": "code",
   "execution_count": 1,
   "metadata": {},
   "outputs": [
    {
     "name": "stdout",
     "output_type": "stream",
     "text": [
      "Hundreds of people have been forced to vacate their homes in ...\n",
      "Indian security forces have shot dead eight suspected milita ...\n",
      "The national road toll for the Christmas-New Year holiday pe ...\n",
      "Argentina's political and economic crisis has deepened with  ...\n",
      "Six midwives have been suspended at Wollongong Hospital, sou ...\n"
     ]
    }
   ],
   "source": [
    "import gensim\n",
    "import os\n",
    "\n",
    "# show text as HTML\n",
    "from IPython.display import HTML\n",
    "\n",
    "test_data_dir = os.sep.join([\n",
    "    gensim.__path__[0], 'test', 'test_data'\n",
    "])\n",
    "lee_train_file = (\n",
    "    test_data_dir + os.sep + 'lee_background.cor'\n",
    ")\n",
    "\n",
    "with open(lee_train_file) as f:\n",
    "    for n, l in enumerate(f):\n",
    "        if n < 5:\n",
    "            print(l[:60], \"...\")"
   ]
  },
  {
   "cell_type": "markdown",
   "metadata": {},
   "source": [
    "The first step is to load the documents and do a simple tokenization with gensim.\n",
    "The `gensim.util.tokenize` method (used by `simple_preprocess`) split text into contiguous tokens of alphabetic characters (e.g., removing digits!), and `simple_preprocess` by default lower-cases all tokens.\n",
    "In a sense, this is quite some harsh preprocessing, but is useful for tutorials and/or very noisy texts."
   ]
  },
  {
   "cell_type": "code",
   "execution_count": 2,
   "metadata": {
    "collapsed": true
   },
   "outputs": [],
   "source": [
    "from gensim.utils import simple_preprocess\n",
    "\n",
    "def read_and_tokenize(file_path):\n",
    "    with open(file_path) as f:\n",
    "        for doc in f:\n",
    "            # strip accents and tokens\n",
    "            # with less than 3 characters\n",
    "            # NB: implicitly removes tokens\n",
    "            # *longer* than 15 characters\n",
    "            yield simple_preprocess(\n",
    "                doc,\n",
    "                deacc=True,\n",
    "                min_len=3)"
   ]
  },
  {
   "cell_type": "code",
   "execution_count": 3,
   "metadata": {},
   "outputs": [
    {
     "data": {
      "text/plain": [
       "300"
      ]
     },
     "execution_count": 3,
     "metadata": {},
     "output_type": "execute_result"
    }
   ],
   "source": [
    "raw_documents = list(read_and_tokenize(\n",
    "    lee_train_file))\n",
    "\n",
    "len(raw_documents)"
   ]
  },
  {
   "cell_type": "markdown",
   "metadata": {},
   "source": [
    "We will be looking at the [LSI](https://radimrehurek.com/gensim/models/lsimodel.html#gensim.models.lsimodel.LsiModel) and [LDA models](https://radimrehurek.com/gensim/models/ldamodel.html#gensim.models.ldamodel.LdaModel); To speed up computations a bit, we will be using gensim's [multicore implementation for LDA](https://radimrehurek.com/gensim/models/ldamulticore.html#module-gensim.models.ldamulticore)."
   ]
  },
  {
   "cell_type": "code",
   "execution_count": 4,
   "metadata": {
    "collapsed": true
   },
   "outputs": [],
   "source": [
    "from gensim.models import LsiModel, LdaModel\n",
    "# disable this line if your CPU has only one core:\n",
    "from gensim.models.ldamulticore import LdaMulticore as LdaModel"
   ]
  },
  {
   "cell_type": "markdown",
   "metadata": {},
   "source": [
    "## Data preparation\n",
    "\n",
    "First, we will do a little trick we will actually only learn about in the future, but that will *vastly* improve performace: detecting collocations (roughly, idioms), lemmatize the words (\"am\" -> \"be\", \"going\" -> \"go\", \"men\" -> \"man\", etc.), and remove **stopwords** (ubiquitious words found almost in any text that are not *very* siginificant for the text's semantics)."
   ]
  },
  {
   "cell_type": "code",
   "execution_count": 5,
   "metadata": {
    "collapsed": true
   },
   "outputs": [],
   "source": [
    "from gensim.models import Phrases\n",
    "from gensim.models.phrases import Phraser\n",
    "from nltk.corpus import stopwords\n",
    "from nltk.stem import WordNetLemmatizer\n",
    "\n",
    "collocations = Phraser(Phrases(raw_documents))\n",
    "lemmatizer = WordNetLemmatizer()\n",
    "lemmatize = lambda t: lemmatizer.lemmatize(t, pos='v')\n",
    "stopwords_en = (frozenset(stopwords.words('english'))\n",
    "                | frozenset([\"also\"]))"
   ]
  },
  {
   "cell_type": "code",
   "execution_count": 6,
   "metadata": {},
   "outputs": [
    {
     "data": {
      "text/html": [
       "united_states team monica seles jan michael gambill score decisive victory unseeded france first hopman cup match burswood dome perth pair runners million dollar mix team event last_year single encounter give unbeatable lead year_old seles currently rank"
      ],
      "text/plain": [
       "<IPython.core.display.HTML object>"
      ]
     },
     "execution_count": 6,
     "metadata": {},
     "output_type": "execute_result"
    }
   ],
   "source": [
    "def preprocess(doc):\n",
    "    \"\"\"\n",
    "    Stopword filtering,\n",
    "    collocation detection (joining),\n",
    "    and token lemmatization.\n",
    "    \"\"\"\n",
    "    \n",
    "    doc_filtered = filter(\n",
    "        lambda w: w not in stopwords_en,\n",
    "        doc)\n",
    "    doc_colloc = collocations[doc_filtered]\n",
    "    doc_lemmas = map(lemmatize, doc_colloc)\n",
    "    # journalist love the word \"say\" in all its \n",
    "    # forms - sayed, saying, says, ...\n",
    "    # so we filter it *after* lemmatizing\n",
    "    return [l for l in doc_lemmas if l != \"say\"]\n",
    "\n",
    "HTML(\" \".join(preprocess(raw_documents[6][:50])))"
   ]
  },
  {
   "cell_type": "code",
   "execution_count": 7,
   "metadata": {
    "collapsed": true
   },
   "outputs": [],
   "source": [
    "texts = list(map(preprocess, raw_documents))"
   ]
  },
  {
   "cell_type": "markdown",
   "metadata": {},
   "source": [
    "Finally, we convert the documents (which by now are token sequences/lists) into numeric vectors, using the Bag-of-Word approach (i.e., ignoring token order, only measuring token *frequency*)."
   ]
  },
  {
   "cell_type": "code",
   "execution_count": 8,
   "metadata": {},
   "outputs": [
    {
     "name": "stdout",
     "output_type": "stream",
     "text": [
      "[(4, 1), (18, 2), (19, 1), (58, 1), (64, 3), (92, 1), (94, 1), (114, 1), (122, 1), (127, 1)]\n"
     ]
    }
   ],
   "source": [
    "from gensim.corpora import Dictionary\n",
    "\n",
    "dictionary = Dictionary(texts)\n",
    "corpus = [dictionary.doc2bow(doc) for doc in texts]\n",
    "\n",
    "print(corpus[6][:10])"
   ]
  },
  {
   "cell_type": "markdown",
   "metadata": {},
   "source": [
    "## LSI Clustering\n",
    "\n",
    "Latent semantic indexing ranks topics and `gensim` outputs them in a ranked order. However, LSI requires a `num_topics` parameter (set to 200 by default) to determine the number of latent dimensions after the SVD step."
   ]
  },
  {
   "cell_type": "code",
   "execution_count": 14,
   "metadata": {},
   "outputs": [
    {
     "data": {
      "text/html": [
       "<h3>Topic 0</h3>\n",
       "<p>0.174*\"arafat\" + 0.172*\"palestinian\" + 0.161*\"israeli\" + 0.158*\"attack\" + 0.152*\"kill\" + 0.144*\"two\" + 0.142*\"force\" + 0.134*\"people\" + 0.123*\"government\" + 0.120*\"australia\"</p>\n",
       "<h3>Topic 1</h3>\n",
       "<p>-0.324*\"arafat\" + -0.311*\"palestinian\" + -0.269*\"israeli\" + -0.195*\"israel\" + -0.169*\"sharon\" + 0.145*\"australia\" + -0.142*\"hamas\" + 0.141*\"australian\" + -0.137*\"kill\" + -0.137*\"west_bank\"</p>\n",
       "<h3>Topic 2</h3>\n",
       "<p>0.377*\"fire\" + -0.255*\"afghanistan\" + 0.189*\"sydney\" + -0.176*\"force\" + -0.148*\"bin_laden\" + -0.142*\"pakistan\" + 0.139*\"firefighters\" + -0.131*\"taliban\" + 0.125*\"new_south\" + 0.125*\"wales\"</p>\n",
       "<h3>Topic 3</h3>\n",
       "<p>0.328*\"fire\" + -0.228*\"australia\" + 0.157*\"force\" + -0.153*\"match\" + -0.146*\"test\" + -0.136*\"play\" + 0.131*\"afghanistan\" + 0.121*\"sydney\" + 0.118*\"firefighters\" + -0.115*\"south_africa\"</p>\n",
       "<h3>Topic 4</h3>\n",
       "<p>-0.244*\"company\" + -0.188*\"qantas\" + -0.159*\"australian\" + -0.147*\"government\" + 0.138*\"test\" + -0.132*\"workers\" + 0.126*\"match\" + 0.114*\"south_africa\" + -0.113*\"meet\" + -0.111*\"unions\"</p>\n",
       "<h3>Topic 5</h3>\n",
       "<p>-0.254*\"force\" + 0.188*\"kill\" + 0.162*\"tell\" + -0.149*\"government\" + -0.135*\"afghanistan\" + 0.128*\"taliban\" + 0.127*\"one\" + 0.123*\"company\" + -0.121*\"australia\" + 0.112*\"people\"</p>\n",
       "<h3>Topic 6</h3>\n",
       "<p>0.511*\"pakistan\" + 0.310*\"india\" + -0.214*\"australian\" + 0.193*\"president\" + 0.172*\"indian\" + 0.147*\"musharraf\" + -0.141*\"afghanistan\" + 0.113*\"want\" + 0.104*\"tension\" + 0.097*\"attack\"</p>\n",
       "<h3>Topic 7</h3>\n",
       "<p>-0.426*\"metres\" + -0.247*\"event\" + -0.246*\"race\" + -0.175*\"pakistan\" + -0.149*\"water\" + -0.140*\"swim\" + -0.135*\"world\" + -0.115*\"women\" + 0.100*\"people\" + -0.098*\"ray\"</p>"
      ],
      "text/plain": [
       "<IPython.core.display.HTML object>"
      ]
     },
     "execution_count": 14,
     "metadata": {},
     "output_type": "execute_result"
    }
   ],
   "source": [
    "lsimodel = LsiModel(\n",
    "    corpus=corpus,\n",
    "    num_topics=8,\n",
    "    id2word=dictionary)\n",
    "\n",
    "results = []\n",
    "\n",
    "for t in lsimodel.show_topics():\n",
    "    results.append(\n",
    "        \"<h3>Topic {}</h3>\\n<p>{}</p>\".format(*t)\n",
    "    )\n",
    "\n",
    "HTML(\"\\n\".join(results))"
   ]
  },
  {
   "cell_type": "markdown",
   "metadata": {},
   "source": [
    "## Evaluating cluster coherence\n",
    "\n",
    "Gensim can measure [topic coherence](https://radimrehurek.com/gensim/models/coherencemodel.html) following a meta-model by [Röder et al. (2015)](http://svn.aksw.org/papers/2015/WSDM_Topic_Evaluation/public.pdf) that combines several different approaches of measuring [word] topic/cluster coherence."
   ]
  },
  {
   "cell_type": "code",
   "execution_count": 10,
   "metadata": {},
   "outputs": [
    {
     "data": {
      "text/plain": [
       "0.41634396699988108"
      ]
     },
     "execution_count": 10,
     "metadata": {},
     "output_type": "execute_result"
    }
   ],
   "source": [
    "from gensim.models import CoherenceModel\n",
    "\n",
    "def get_topic_words(lsi_model):\n",
    "    topic_list = lsi_model.show_topics(formatted=False)\n",
    "    return [[word for word, prob in wp_pairs]\n",
    "            for topic_id, wp_pairs in topic_list]\n",
    "\n",
    "# window_size defines the \"context\"\n",
    "# tokens for the probability model\n",
    "# (see section 3.2, \"Boolean sliding\n",
    "#  window\" in Röder et al.)\n",
    "CoherenceModel(\n",
    "    topics=get_topic_words(lsimodel),\n",
    "    texts=texts,\n",
    "    dictionary=dictionary,\n",
    "    window_size=10).get_coherence()"
   ]
  },
  {
   "cell_type": "markdown",
   "metadata": {},
   "source": [
    "With this, we can now estimate a good value for `num_topics` - simply by clustering with a range of topic numbers that seem realistic and picking the best result."
   ]
  },
  {
   "cell_type": "code",
   "execution_count": 11,
   "metadata": {
    "collapsed": true
   },
   "outputs": [],
   "source": [
    "def evaluate_graph(\n",
    "    dictionary,\n",
    "    corpus,\n",
    "    texts,\n",
    "    min_num=3,\n",
    "    max_num=15):\n",
    "    \n",
    "    n_topics = list(range(min_num, max_num + 1))\n",
    "    scores = []\n",
    "    \n",
    "    for num_topics in n_topics:\n",
    "        lm = LsiModel(\n",
    "            corpus=corpus,\n",
    "            num_topics=num_topics,\n",
    "            id2word=dictionary)\n",
    "        \n",
    "        cm = CoherenceModel(\n",
    "            topics=get_topic_words(lm),\n",
    "            texts=texts,\n",
    "            dictionary=dictionary,\n",
    "            window_size=10)     \n",
    "        \n",
    "        scores.append(cm.get_coherence())\n",
    "        \n",
    "    plt.plot(n_topics, scores)\n",
    "    plt.xlabel(\"N. topics\")\n",
    "    plt.ylabel(\"Coherence score\")\n",
    "    plt.show()"
   ]
  },
  {
   "cell_type": "code",
   "execution_count": 12,
   "metadata": {},
   "outputs": [
    {
     "name": "stdout",
     "output_type": "stream",
     "text": [
      "Populating the interactive namespace from numpy and matplotlib\n"
     ]
    },
    {
     "data": {
      "image/png": "[encoded data removed]",
      "text/plain": [
       "<matplotlib.figure.Figure at 0x111f871d0>"
      ]
     },
     "metadata": {},
     "output_type": "display_data"
    },
    {
     "name": "stdout",
     "output_type": "stream",
     "text": [
      "CPU times: user 5.01 s, sys: 327 ms, total: 5.34 s\n",
      "Wall time: 3.95 s\n"
     ]
    }
   ],
   "source": [
    "%pylab inline --no-import-all\n",
    "%time evaluate_graph(dictionary, corpus, texts)"
   ]
  },
  {
   "cell_type": "markdown",
   "metadata": {},
   "source": [
    "If all went \"according to plan\", you should see that the best topic coherence is found at 3 topics, explaining our choice above (which was correct after finding this result).\n",
    "\n",
    "## LSI conclusions\n",
    "\n",
    "LSI clustering is relatively simple to implement.\n",
    "Its biggest (in fact, quite significant) drawback maybe is that it scales poorly with corpus size.\n",
    "Finally, note that a trained LSI model can be used to predict the topic/cluster distribution in new, unseen documents, just like this:\n",
    "\n",
    "`doc_topics = lsi_model[dictionary.doc2bow(preprocess(raw_doc))]`\n",
    "\n",
    "***\n",
    "***\n",
    "***\n",
    "\n",
    "## LDA clustering\n",
    "\n",
    "Similar to LSI, LDA can also be used to bootstrap clusters, and again a `num_topics` hyper-parameter is the \"hardest\" part about setting up this clustering algorithm.\n",
    "\n",
    "**WARNING**: LDA more expensive to run; expect long computations ahead if you are working with old hardware."
   ]
  },
  {
   "cell_type": "code",
   "execution_count": 15,
   "metadata": {
    "collapsed": true
   },
   "outputs": [],
   "source": [
    "# the \"best\" num_topics was estimated by \n",
    "# replacing `LsiModel` in `evaluate_graph` with `LdaModel`\n",
    "ldamodel = LdaModel(\n",
    "    corpus=corpus,\n",
    "    num_topics=11,\n",
    "    id2word=dictionary)"
   ]
  },
  {
   "cell_type": "markdown",
   "metadata": {},
   "source": [
    "Now onto somthing cool - visually exploring the LDA model's results. Note that you need [`pyLDAvis`](https://nbviewer.jupyter.org/github/bmabey/pyLDAvis/blob/master/notebooks/pyLDAvis_overview.ipynb) installed for this step, e.g.:\n",
    "\n",
    "- `conda install pyLDAvis`\n",
    "- `pip3 install pyLDAvis`"
   ]
  },
  {
   "cell_type": "code",
   "execution_count": null,
   "metadata": {
    "scrolled": true
   },
   "outputs": [],
   "source": [
    "import pyLDAvis.gensim\n",
    "pyLDAvis.enable_notebook()\n",
    "# enable this line:\n",
    "# (disabled to save horizontal screen space)\n",
    "#pyLDAvis.gensim.prepare(ldamodel, corpus, dictionary)"
   ]
  },
  {
   "cell_type": "markdown",
   "metadata": {},
   "source": [
    "The circles' sizes are proportional to the proportions of the topics, using the \"default\" topic if no term is selected. The red bars represent the topic's weight for that term, the blue bars the overall term frequency. $\\lambda$ controls how term relevance is ranked. With a selected term, the circle sizes represent topic-term proportions. More information can be found in the original [R Vignette](https://cran.r-project.org/web/packages/LDAvis/vignettes/details.pdf).\n",
    "\n",
    "## LDA coherence score"
   ]
  },
  {
   "cell_type": "code",
   "execution_count": 18,
   "metadata": {},
   "outputs": [
    {
     "data": {
      "text/plain": [
       "0.32927206726201924"
      ]
     },
     "execution_count": 18,
     "metadata": {},
     "output_type": "execute_result"
    }
   ],
   "source": [
    "ldatopics = ldamodel.show_topics(formatted=False)\n",
    "topics = [[word for word, prob in topic]\n",
    "          for topicid, topic in ldatopics]\n",
    "\n",
    "CoherenceModel(topics=topics,\n",
    "               texts=texts,\n",
    "               dictionary=dictionary,\n",
    "               window_size=10).get_coherence()"
   ]
  },
  {
   "cell_type": "markdown",
   "metadata": {},
   "source": [
    "As described before, the LDA model's `num_topics` was set up to use the value that produces the highest coherence score.\n",
    "Yet, the coherence score still is a distant second to what LSI produced.\n",
    "So how do we use LDA \"correctly\" to get good (better than LSI) results?\n",
    "\n",
    "\n",
    "## Cherry-picking the best LDA topics\n",
    "\n",
    "One of the problems with LDA is that if we train it on a large number of topics, the topics get \"lost\" among the numbers. With the below function, we sort each *topic* in a LDA model with 100 topics (the default number of topics for `LdaModel`) and then go cherry-picking the  model that has at least one very coherent topic, and then will select the most coherent topics among it.\n",
    "\n",
    "**WARNING:** LDA is very resource-hungry, computationally speaking; And this particular \"setup\" will take quite some time even on a modern laptop. If you have an old machine, this search can take dozens of minutes. On my machine MBP, this cell routinely takes around 2-5 minutes to complete.\n",
    "\n",
    "**HUGE WARNING**: This is LDA -- and as such, the loop below might not converege; If after around ten runs (print statement) you get no result (because no topic reached the required coherence), you are better of restarting this cell."
   ]
  },
  {
   "cell_type": "code",
   "execution_count": 19,
   "metadata": {},
   "outputs": [
    {
     "name": "stdout",
     "output_type": "stream",
     "text": [
      "(43, 0.94240695001394914)\n",
      "(85, 0.94352607913652609)\n",
      "(74, 0.78718310305528516)\n",
      "(41, 0.87722206782657075)\n",
      "(74, 0.93087588176716329)\n",
      "(33, 0.86980675820426723)\n",
      "(16, 0.97137951353996921)\n",
      "CPU times: user 1min 23s, sys: 1.93 s, total: 1min 25s\n",
      "Wall time: 1min 25s\n"
     ]
    }
   ],
   "source": [
    "%%time\n",
    "\n",
    "import operator\n",
    "\n",
    "def find_top_topics():\n",
    "    top_topics = [(0, 0)]\n",
    "    \n",
    "    # create models until the top topic\n",
    "    # reaches the indicated coherence score:\n",
    "    while top_topics[0][1] < 0.95:\n",
    "        \n",
    "        lm = LdaModel( # num_topics=100 by default\n",
    "            workers=4, # from LdaMuliticore\n",
    "            corpus=corpus,\n",
    "            id2word=dictionary)\n",
    "        coherence_values = {}\n",
    "        topic_idx = lm.show_topics(\n",
    "            num_topics=-1,\n",
    "            formatted=False)\n",
    "        \n",
    "        for n, topic in topic_idx:\n",
    "            topic = [word for word, _ in topic]\n",
    "            \n",
    "            cm = CoherenceModel(\n",
    "                topics=[topic],\n",
    "                texts=texts,\n",
    "                dictionary=dictionary, \n",
    "                window_size=10)\n",
    "            \n",
    "            coherence_values[n] = cm.get_coherence()\n",
    "            \n",
    "        top_topics = sorted(\n",
    "            coherence_values.items(),\n",
    "            key=operator.itemgetter(1),\n",
    "            reverse=True)\n",
    "        print(top_topics[0])\n",
    "\n",
    "    return lm, top_topics\n",
    "\n",
    "lsildamodel, top_topics = find_top_topics()"
   ]
  },
  {
   "cell_type": "code",
   "execution_count": 20,
   "metadata": {},
   "outputs": [
    {
     "data": {
      "text/plain": [
       "[('fire', 0.025204164466972451),\n",
       " ('line', 0.012416616962475485),\n",
       " ('north', 0.011203253029828619),\n",
       " ('burn', 0.0084761298283863428),\n",
       " ('south', 0.0081300712753220542),\n",
       " ('sydney', 0.0080226980343572445),\n",
       " ('containment', 0.0079644472525016736),\n",
       " ('rural_fire', 0.0076110078396065635),\n",
       " ('state', 0.0073798836120755728),\n",
       " ('west', 0.0072537481849166453)]"
      ]
     },
     "execution_count": 20,
     "metadata": {},
     "output_type": "execute_result"
    }
   ],
   "source": [
    "lsildamodel.show_topic(top_topics[0][0])"
   ]
  },
  {
   "cell_type": "code",
   "execution_count": 21,
   "metadata": {
    "scrolled": false
   },
   "outputs": [
    {
     "data": {
      "text/html": [
       "<h3>Topic 16</h3><p>Coherence score: 0.971</p><p>\"fire\"=2.52e-02 + \"line\"=1.24e-02 + \"north\"=1.12e-02 + \"burn\"=8.48e-03 + \"south\"=8.13e-03 + \"sydney\"=8.02e-03 + \"containment\"=7.96e-03 + \"rural fire\"=7.61e-03 + \"state\"=7.38e-03 + \"west\"=7.25e-03</p>\n",
       "<h3>Topic 23</h3><p>Coherence score: 0.870</p><p>\"arafat\"=1.93e-02 + \"palestinian\"=1.89e-02 + \"israeli\"=1.42e-02 + \"west bank\"=9.75e-03 + \"attack\"=9.66e-03 + \"kill\"=9.16e-03 + \"israel\"=8.99e-03 + \"security\"=6.17e-03 + \"government\"=5.76e-03 + \"militants\"=5.52e-03</p>\n",
       "<h3>Topic 52</h3><p>Coherence score: 0.830</p><p>\"play\"=9.22e-03 + \"start\"=8.61e-03 + \"adelaide\"=8.34e-03 + \"macgill\"=8.26e-03 + \"innings\"=7.89e-03 + \"different\"=7.70e-03 + \"warne\"=7.18e-03 + \"australia\"=7.05e-03 + \"south africa\"=6.99e-03 + \"match\"=6.82e-03</p>\n",
       "<h3>Topic 45</h3><p>Coherence score: 0.822</p><p>\"afghanistan\"=1.65e-02 + \"force\"=1.35e-02 + \"united states\"=7.96e-03 + \"lade\"=7.91e-03 + \"still\"=7.47e-03 + \"believe\"=7.16e-03 + \"osama bin\"=7.12e-03 + \"bin laden\"=6.73e-03 + \"pentagon\"=6.58e-03 + \"mountains\"=5.68e-03</p>\n",
       "<h3>Topic 70</h3><p>Coherence score: 0.807</p><p>\"storm\"=1.49e-02 + \"sydney\"=1.31e-02 + \"fire\"=1.07e-02 + \"tree\"=9.09e-03 + \"around\"=7.67e-03 + \"service\"=7.31e-03 + \"damage\"=7.21e-03 + \"home\"=7.11e-03 + \"work\"=6.95e-03 + \"worst\"=6.88e-03</p>"
      ],
      "text/plain": [
       "<IPython.core.display.HTML object>"
      ]
     },
     "execution_count": 21,
     "metadata": {},
     "output_type": "execute_result"
    }
   ],
   "source": [
    "HTML(\"\\n\".join([\n",
    "    \"<h3>Topic {}</h3><p>Coherence score: {:.3f}</p><p>{}</p>\".format(\n",
    "        topicid, c_v,\n",
    "        \" + \".join('\"{}\"={:.2e}'.format(w.replace('_', \" \"), p)\n",
    "                  for w, p in lsildamodel.show_topic(topicid))\n",
    "    )\n",
    "    for topicid, c_v in top_topics[:5]\n",
    "]))"
   ]
  },
  {
   "cell_type": "code",
   "execution_count": 23,
   "metadata": {},
   "outputs": [
    {
     "data": {
      "text/plain": [
       "0.86031333051745262"
      ]
     },
     "execution_count": 23,
     "metadata": {},
     "output_type": "execute_result"
    }
   ],
   "source": [
    "word_probs = lambda topicid: lsildamodel.show_topic(topicid)\n",
    "lda_lsi_topics = [[word for word, prob in word_probs(t_id)]\n",
    "                  for t_id, c_v in top_topics]\n",
    "\n",
    "CoherenceModel(\n",
    "    topics=lda_lsi_topics[:5], # top n using the results above\n",
    "    texts=texts,\n",
    "    dictionary=dictionary,\n",
    "    window_size=10).get_coherence()"
   ]
  },
  {
   "cell_type": "markdown",
   "metadata": {},
   "source": [
    "## Conclusion\n",
    "\n",
    "With \"LDA as LSI\", we managed to beat our best LSI model, by selecting the four most coherent topics out of 100 - but at quite some \"computational cost\".\n",
    "\n",
    "## HDP (Hierarchical Dirichlet process) clustering\n",
    "\n",
    "Despite being beyond the content of the lecture, **nonparametric** [HDP clustering by Wang et al. (2011)](http://proceedings.mlr.press/v15/wang11a/wang11a.pdf) should be mentioned here for completeness."
   ]
  },
  {
   "cell_type": "code",
   "execution_count": 25,
   "metadata": {},
   "outputs": [
    {
     "name": "stdout",
     "output_type": "stream",
     "text": [
      "N. topics = 20\n",
      "Coherence = 0.559653747665\n"
     ]
    },
    {
     "data": {
      "text/html": [
       "<h3>Topic 0</h3>\n",
       "<p>0.005*arafat + 0.005*palestinian + 0.005*israeli + 0.004*sharon + 0.003*government + 0.003*kill + 0.003*group + 0.003*choose + 0.003*west_bank + 0.003*call + 0.003*make + 0.002*australia + 0.002*hamas + 0.002*attack + 0.002*team + 0.002*security + 0.002*target + 0.002*win + 0.002*suicide_attacks + 0.002*three</p>\n",
       "\n",
       "<h3>Topic 1</h3>\n",
       "<p>0.003*taliban + 0.003*airport + 0.002*bomb + 0.002*kill + 0.002*opposition + 0.002*fear + 0.002*kandahar + 0.002*target + 0.002*city + 0.002*end + 0.001*lali + 0.001*leave + 0.001*civilians + 0.001*night + 0.001*near + 0.001*gul + 0.001*report + 0.001*half + 0.001*area + 0.001*around</p>\n",
       "\n",
       "<h3>Topic 2</h3>\n",
       "<p>0.003*match + 0.002*israeli + 0.002*play + 0.002*australia + 0.002*team + 0.002*attack + 0.002*rafter + 0.002*ask + 0.002*double + 0.002*france + 0.002*territories + 0.002*tennis + 0.001*could + 0.001*world + 0.001*guarantee + 0.001*win + 0.001*day + 0.001*defeat + 0.001*still + 0.001*shanab</p>\n",
       "\n",
       "<h3>Topic 3</h3>\n",
       "<p>0.004*storm + 0.003*tree + 0.003*work + 0.002*ses + 0.002*areas + 0.002*get + 0.002*service + 0.002*damage + 0.002*sydney + 0.002*large + 0.002*home + 0.002*hit + 0.002*worst + 0.001*call + 0.001*go + 0.001*around + 0.001*hornsby + 0.001*people + 0.001*discover + 0.001*bring</p>\n",
       "\n",
       "<h3>Topic 4</h3>\n",
       "<p>0.002*rabbani + 0.002*president + 0.002*afghan + 0.002*green + 0.001*band + 0.001*northern_alliance + 0.001*draw + 0.001*know + 0.001*deteriorate + 0.001*later + 0.001*interim + 0.001*massive + 0.001*beatles + 0.001*survive + 0.001*beatle + 0.001*bonn + 0.001*factions + 0.001*international + 0.001*success + 0.001*object</p>\n",
       "\n",
       "<h3>Topic 5</h3>\n",
       "<p>0.003*arrest + 0.003*krishna + 0.003*ash + 0.002*hare + 0.002*benares + 0.002*gang + 0.002*harrison + 0.002*take + 0.002*ceremony + 0.002*bernadette + 0.002*river + 0.001*holy + 0.001*officials + 0.001*members + 0.001*boat_people + 0.001*fan + 0.001*smuggle + 0.001*presidency + 0.001*former + 0.001*rough</p>\n",
       "\n",
       "<h3>Topic 6</h3>\n",
       "<p>0.003*australian + 0.002*five + 0.002*afghanistan + 0.002*go + 0.002*head + 0.002*state + 0.001*troop + 0.001*world + 0.001*hiv + 0.001*today + 0.001*take + 0.001*united_nations + 0.001*observe + 0.001*renew + 0.001*force + 0.001*historian + 0.001*latest + 0.001*british + 0.001*hindu + 0.001*arrive</p>\n",
       "\n",
       "<h3>Topic 7</h3>\n",
       "<p>0.002*australian + 0.002*less + 0.002*day + 0.001*geoff + 0.001*australia + 0.001*lower + 0.001*future + 0.001*collapse + 0.001*new_zealand + 0.001*trend + 0.001*insurance + 0.001*bedside + 0.001*survey + 0.001*annan + 0.001*possible + 0.001*berlin + 0.001*party + 0.001*annual + 0.001*receive + 0.001*first</p>\n",
       "\n",
       "<h3>Topic 8</h3>\n",
       "<p>0.003*party + 0.002*president + 0.001*coalition + 0.001*weather_bureau + 0.001*two + 0.001*welsh + 0.001*congressmen + 0.001*australian + 0.001*third + 0.001*categorically + 0.001*national + 0.001*daryl + 0.001*reduce + 0.001*residents + 0.001*ford + 0.001*rule + 0.001*fight + 0.001*swan + 0.001*international + 0.001*stage</p>\n",
       "\n",
       "<h3>Topic 9</h3>\n",
       "<p>0.004*company + 0.002*austar + 0.002*receive + 0.002*entitlements + 0.002*staff + 0.002*million + 0.002*administrators + 0.001*meet + 0.001*leave + 0.001*cents + 0.001*cease + 0.001*brothers + 0.001*board + 0.001*celebrations + 0.001*save + 0.001*hundreds + 0.001*entitle + 0.001*morning + 0.001*operate + 0.001*today</p>\n",
       "\n",
       "<h3>Topic 10</h3>\n",
       "<p>0.002*guide + 0.002*canyoning + 0.002*adventure_world + 0.002*kill + 0.002*interlaken + 0.002*one + 0.002*three + 0.002*appear + 0.002*people + 0.002*swiss + 0.002*proceed + 0.002*court + 0.001*wall + 0.001*stuart + 0.001*first + 0.001*occur + 0.001*bulabarra + 0.001*massive + 0.001*deaths + 0.001*provision</p>\n",
       "\n",
       "<h3>Topic 11</h3>\n",
       "<p>0.003*harrison + 0.002*george + 0.002*liverpool + 0.002*beatle + 0.002*tonight + 0.002*memory + 0.002*die + 0.002*minute + 0.001*music + 0.001*cold + 0.001*man + 0.001*silence + 0.001*could + 0.001*shape + 0.001*portrayal + 0.001*world + 0.001*lord + 0.001*one + 0.001*lose + 0.001*sale</p>\n",
       "\n",
       "<h3>Topic 12</h3>\n",
       "<p>0.002*afghanistan + 0.002*call + 0.002*would + 0.002*agreement + 0.002*afghan + 0.001*offences + 0.001*two_years + 0.001*compose + 0.001*shot_dead + 0.001*bennett + 0.001*surrender + 0.001*strike + 0.001*stronger + 0.001*beset + 0.001*beretta + 0.001*structure + 0.001*assembly + 0.001*group + 0.001*unidentified + 0.001*govern</p>\n",
       "\n",
       "<h3>Topic 13</h3>\n",
       "<p>0.003*per_cent + 0.003*job + 0.002*olivier + 0.002*drop + 0.002*anz + 0.001*market + 0.001*advertise + 0.001*measure + 0.001*marines + 0.001*flank + 0.001*employment + 0.001*hole + 0.001*fall + 0.001*yassin + 0.001*motives + 0.001*internet + 0.001*sturesteps + 0.001*vulnerable + 0.001*eslake + 0.001*week</p>\n",
       "\n",
       "<h3>Topic 14</h3>\n",
       "<p>0.003*government + 0.002*help + 0.002*lew + 0.002*look + 0.002*truck + 0.002*attribute + 0.002*bid + 0.001*ask + 0.001*would + 0.001*could + 0.001*force + 0.001*dominance + 0.001*interim_government + 0.001*review + 0.001*alejandro + 0.001*assistance + 0.001*qantas + 0.001*spark + 0.001*dictator + 0.001*break</p>\n",
       "\n",
       "<h3>Topic 15</h3>\n",
       "<p>0.003*report + 0.003*company + 0.002*take + 0.002*ernst + 0.002*accident + 0.002*degree + 0.001*sarah + 0.001*hih + 0.001*apra + 0.001*downturn + 0.001*regime + 0.001*commission + 0.001*phenomena + 0.001*solvency + 0.001*tell + 0.001*untrue + 0.001*positive + 0.001*chancellor + 0.001*young + 0.001*cheaper</p>\n",
       "\n",
       "<h3>Topic 16</h3>\n",
       "<p>0.003*friedli + 0.002*director + 0.002*company + 0.002*reply + 0.002*know + 0.002*people + 0.002*make + 0.002*blake + 0.001*organise + 0.001*risk + 0.001*ask + 0.001*rage + 0.001*could + 0.001*murder + 0.001*question + 0.001*draconian + 0.001*appear + 0.001*think + 0.001*swiss + 0.001*mistake</p>\n",
       "\n",
       "<h3>Topic 17</h3>\n",
       "<p>0.002*two + 0.002*howard + 0.002*indonesia + 0.002*summit + 0.002*meet + 0.002*president + 0.002*megawati + 0.002*mogul + 0.001*afraid + 0.001*expect + 0.001*uneven + 0.001*talk + 0.001*palestinian + 0.001*beautiful + 0.001*australia + 0.001*bloomberg + 0.001*jakarta + 0.001*february + 0.001*taiba + 0.001*pad</p>\n",
       "\n",
       "<h3>Topic 18</h3>\n",
       "<p>0.002*virgin + 0.002*launceston + 0.002*morning + 0.002*second + 0.002*airline + 0.002*terminal + 0.001*flight + 0.001*indictment + 0.001*gould + 0.001*share + 0.001*ansett + 0.001*customers + 0.001*melbourne + 0.001*check + 0.001*pitch + 0.001*liabilities + 0.001*underway + 0.001*tell + 0.001*afternoon + 0.001*mean</p>\n",
       "\n",
       "<h3>Topic 19</h3>\n",
       "<p>0.002*sydney + 0.002*storm + 0.002*hit + 0.002*nitrous + 0.002*north + 0.002*damage + 0.002*come + 0.002*disaster + 0.001*carr + 0.001*tamworth + 0.001*volunteer + 0.001*natural + 0.001*areas + 0.001*apartment + 0.001*mental + 0.001*new_south + 0.001*sit + 0.001*could + 0.001*nicholas + 0.001*intimidation</p>\n"
      ],
      "text/plain": [
       "<IPython.core.display.HTML object>"
      ]
     },
     "execution_count": 25,
     "metadata": {},
     "output_type": "execute_result"
    }
   ],
   "source": [
    "from gensim.models import HdpModel\n",
    "\n",
    "hdpmodel = HdpModel(\n",
    "    corpus=corpus,\n",
    "    id2word=dictionary)\n",
    "\n",
    "topic_words = []\n",
    "\n",
    "for topic in hdpmodel.show_topics():\n",
    "    topic_words.append(\n",
    "        \"<h3>Topic {}</h3>\\n<p>{}</p>\\n\".format(*topic)\n",
    "    )\n",
    "    \n",
    "hdptopics = hdpmodel.show_topics(formatted=False)\n",
    "topics = [[word for word, prob in topic]\n",
    "          for topicid, topic in hdptopics]\n",
    "\n",
    "print(\"N. topics =\", len(topics))\n",
    "print(\"Coherence =\", CoherenceModel(\n",
    "    topics=topics,\n",
    "    texts=texts,\n",
    "    dictionary=dictionary,\n",
    "    window_size=10).get_coherence())\n",
    "\n",
    "HTML(\"\\n\".join(topic_words))"
   ]
  },
  {
   "cell_type": "markdown",
   "metadata": {},
   "source": [
    "HDP clustering was much faster that LDA, required no estimation of the number of topics, and has acceptable results in terms of coherence. At the very least a solid baseline to drive your LDA-based clustering work against!"
   ]
  }
 ],
 "metadata": {
  "kernelspec": {
   "display_name": "Python 3",
   "language": "python",
   "name": "python3"
  },
  "language_info": {
   "codemirror_mode": {
    "name": "ipython",
    "version": 3
   },
   "file_extension": ".py",
   "mimetype": "text/x-python",
   "name": "python",
   "nbconvert_exporter": "python",
   "pygments_lexer": "ipython3",
   "version": "3.6.3"
  }
 },
 "nbformat": 4,
 "nbformat_minor": 2
}
