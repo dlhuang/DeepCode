{
 "cells": [
  {
   "cell_type": "markdown",
   "metadata": {
    "collapsed": true
   },
   "source": [
    "# Representation learning with Doc2Vec\n",
    "\n",
    "Practical course material for the ASDM Class 09 (Text Mining) by Florian Leitner.\n",
    "\n",
    "© 2017 Florian Leitner. All rights reserved.\n",
    "\n",
    "## Introduction\n",
    "\n",
    "In addition to word embeddings we just saw, it is possible to aggregate the word embeddings and combine them with a document-specific inference step to produce [Le and Mikolov (2014)](https://cs.stanford.edu/~quocle/paragraph_vector.pdf)'s approach for producing document embeddings, called *paragraph vectors*, aka. \"Doc2Vec\" (in analogy to \"Word2Vec\").\n",
    "\n",
    "The only requirement for this notebook is `gensim` and NTLK for the [Reuters-21578 corpus](https://archive.ics.uci.edu/ml/datasets/Reuters-21578+Text+Categorization+Collection).\n",
    "And we will be following a heavily modified version of `gensim`'s [Doc2Vec tutorial](https://nbviewer.jupyter.org/github/RaRe-Technologies/gensim/blob/develop/docs/notebooks/doc2vec-lee.ipynb)."
   ]
  },
  {
   "cell_type": "code",
   "execution_count": 1,
   "metadata": {},
   "outputs": [
    {
     "name": "stdout",
     "output_type": "stream",
     "text": [
      "Populating the interactive namespace from numpy and matplotlib\n"
     ]
    }
   ],
   "source": [
    "import gensim\n",
    "import os\n",
    "import nltk\n",
    "\n",
    "# show text as HTML\n",
    "from IPython.display import HTML\n",
    "%pylab inline --no-import-all"
   ]
  },
  {
   "cell_type": "code",
   "execution_count": 2,
   "metadata": {},
   "outputs": [
    {
     "name": "stdout",
     "output_type": "stream",
     "text": [
      "showing info https://raw.githubusercontent.com/nltk/nltk_data/gh-pages/index.xml\n"
     ]
    },
    {
     "data": {
      "text/plain": [
       "True"
      ]
     },
     "execution_count": 2,
     "metadata": {},
     "output_type": "execute_result"
    }
   ],
   "source": [
    "nltk.download()"
   ]
  },
  {
   "cell_type": "markdown",
   "metadata": {},
   "source": [
    "## Corpus preparation: Reuters-21578\n",
    "\n",
    "We will be using the same corpus we had in use yesterday for clustering, this time including the test data, too."
   ]
  },
  {
   "cell_type": "code",
   "execution_count": 3,
   "metadata": {
    "collapsed": true
   },
   "outputs": [],
   "source": [
    "from nltk.corpus import reuters "
   ]
  },
  {
   "cell_type": "markdown",
   "metadata": {},
   "source": [
    "If the above step didn't work, first download the Reuters corpus from the GUI that pops up here:"
   ]
  },
  {
   "cell_type": "code",
   "execution_count": 3,
   "metadata": {
    "collapsed": true
   },
   "outputs": [],
   "source": [
    "#nltk.download()"
   ]
  },
  {
   "cell_type": "markdown",
   "metadata": {},
   "source": [
    "Here's a sample document:"
   ]
  },
  {
   "cell_type": "code",
   "execution_count": 4,
   "metadata": {},
   "outputs": [
    {
     "data": {
      "text/html": [
       "ASIAN EXPORTERS FEAR DAMAGE FROM U.S.-JAPAN RIFT\n",
       "  Mounting trade friction between the\n",
       "  U.S. And Japan has raised fears among many of Asia's exporting\n",
       "  nations that the row could inflict far-reachin..."
      ],
      "text/plain": [
       "<IPython.core.display.HTML object>"
      ]
     },
     "execution_count": 4,
     "metadata": {},
     "output_type": "execute_result"
    }
   ],
   "source": [
    "HTML(reuters.raw(reuters.fileids()[0])[:200] + \"...\")"
   ]
  },
  {
   "cell_type": "markdown",
   "metadata": {},
   "source": [
    "The around 12,000 Reuters news articles in this corpus (the \"ApteMod\" corpus version) are assigned to the following categories:"
   ]
  },
  {
   "cell_type": "code",
   "execution_count": 5,
   "metadata": {},
   "outputs": [
    {
     "name": "stdout",
     "output_type": "stream",
     "text": [
      "all 90 categories:\n"
     ]
    },
    {
     "data": {
      "text/html": [
       "acq, alum, barley, bop, carcass, castor-oil, cocoa, coconut, coconut-oil, coffee, copper, copra-cake, corn, cotton, cotton-oil, cpi, cpu, crude, dfl, dlr, dmk, earn, fuel, gas, gnp, gold, grain, groundnut, groundnut-oil, heat, hog, housing, income, instal-debt, interest, ipi, iron-steel, jet, jobs, l-cattle, lead, lei, lin-oil, livestock, lumber, meal-feed, money-fx, money-supply, naphtha, nat-gas, nickel, nkr, nzdlr, oat, oilseed, orange, palladium, palm-oil, palmkernel, pet-chem, platinum, potato, propane, rand, rape-oil, rapeseed, reserves, retail, rice, rubber, rye, ship, silver, sorghum, soy-meal, soy-oil, soybean, strategic-metal, sugar, sun-meal, sun-oil, sunseed, tea, tin, trade, veg-oil, wheat, wpi, yen, zinc"
      ],
      "text/plain": [
       "<IPython.core.display.HTML object>"
      ]
     },
     "execution_count": 5,
     "metadata": {},
     "output_type": "execute_result"
    }
   ],
   "source": [
    "print(\"all\", len(reuters.categories()), \"categories:\")\n",
    "HTML(\", \".join(reuters.categories()))"
   ]
  },
  {
   "cell_type": "code",
   "execution_count": 6,
   "metadata": {
    "scrolled": true
   },
   "outputs": [
    {
     "data": {
      "image/png": "[encoded data removed]",
      "text/plain": [
       "<matplotlib.figure.Figure at 0x11432a3c8>"
      ]
     },
     "metadata": {},
     "output_type": "display_data"
    }
   ],
   "source": [
    "pairs = sorted([\n",
    "    (len(reuters.fileids(cat)), cat)\n",
    "    for cat in reuters.categories()\n",
    "])\n",
    "\n",
    "counts = [cnt for cnt, cat in pairs[-15:]]\n",
    "cats = [cat for cnt, cat in pairs[-15:]]\n",
    "plt.barh(range(len(cats)), counts)\n",
    "plt.yticks(range(len(cats)), cats)\n",
    "plt.xlabel('Counts')\n",
    "plt.title('Category counts')\n",
    "plt.show()"
   ]
  },
  {
   "cell_type": "markdown",
   "metadata": {},
   "source": [
    "Let's calculate the mean number of categories per document:"
   ]
  },
  {
   "cell_type": "code",
   "execution_count": 8,
   "metadata": {},
   "outputs": [
    {
     "name": "stdout",
     "output_type": "stream",
     "text": [
      "mean n. categories/document = 1.235\n"
     ]
    }
   ],
   "source": [
    "n_cat_sum = sum(len(reuters.categories(doc_id))\n",
    "                for doc_id in reuters.fileids())\n",
    "n_docs = len(reuters.fileids())\n",
    "print(\"mean n. categories/document = {:.3f}\".format(\n",
    "    n_cat_sum / n_docs))"
   ]
  },
  {
   "cell_type": "markdown",
   "metadata": {},
   "source": [
    "Finally, we go through the usual preprocessing setup we've seen these days already: tokenization, removing accents, removing stopwords and tokens with two or less characters, lemmatization of tokens, and forming bigram collocations."
   ]
  },
  {
   "cell_type": "code",
   "execution_count": 9,
   "metadata": {},
   "outputs": [
    {
     "name": "stdout",
     "output_type": "stream",
     "text": [
      "n. train docs: 7769\n",
      "n. test docs: 3019\n"
     ]
    }
   ],
   "source": [
    "from gensim.models.doc2vec import TaggedDocument\n",
    "from gensim.utils import simple_preprocess\n",
    "from gensim.models import Phrases\n",
    "from gensim.models.phrases import Phraser\n",
    "from nltk.corpus import stopwords\n",
    "from nltk.stem import WordNetLemmatizer\n",
    "\n",
    "stopwords_en = (frozenset(stopwords.words('english'))\n",
    "                | frozenset([\"also\"]))\n",
    "lemmatizer = WordNetLemmatizer()\n",
    "lemmatize = lambda t: lemmatizer.lemmatize(t, pos='v')\n",
    "\n",
    "def read_and_tokenize(doc_id):\n",
    "    doc = reuters.raw(doc_id)\n",
    "    # strip accents and tokens with less than 3 characters\n",
    "    # NB: implicitly removes tokens *longer* than 15 characters\n",
    "    return simple_preprocess(doc, deacc=True, min_len=3)\n",
    "\n",
    "train_corpus = []\n",
    "test_corpus = []\n",
    "\n",
    "for doc_id in reuters.fileids():\n",
    "    doc = TaggedDocument(\n",
    "        simple_preprocess(reuters.raw(doc_id),\n",
    "                          deacc=True, min_len=3),\n",
    "        [doc_id])\n",
    "\n",
    "    if doc_id.startswith(\"train\"):\n",
    "        train_corpus.append(doc)\n",
    "    else:\n",
    "        test_corpus.append(doc)\n",
    "\n",
    "words = [d.words for d in train_corpus]\n",
    "collocations = Phraser(Phrases(words))\n",
    "\n",
    "def preprocess(doc):\n",
    "    \"\"\"\n",
    "    Stopword filtering,\n",
    "    collocation detection (joining),\n",
    "    and token lemmatization.\n",
    "    \"\"\"\n",
    "    \n",
    "    doc_filtered = filter(lambda w: w not in stopwords_en,\n",
    "                          doc.words)\n",
    "    doc_colloc = collocations[doc_filtered]\n",
    "    doc_lemmas = [lemmatize(token) for token in doc_colloc]\n",
    "    return TaggedDocument(doc_lemmas, doc.tags)\n",
    "\n",
    "train_corpus = [preprocess(d) for d in train_corpus]\n",
    "test_corpus = [preprocess(d) for d in test_corpus]\n",
    "\n",
    "print(\"n. train docs:\", len(train_corpus))\n",
    "print(\"n. test docs:\", len(test_corpus))"
   ]
  },
  {
   "cell_type": "code",
   "execution_count": 10,
   "metadata": {},
   "outputs": [
    {
     "name": "stdout",
     "output_type": "stream",
     "text": [
      "training/1 tags : ['training/1']\n",
      "training/1 words:\n"
     ]
    },
    {
     "data": {
      "text/html": [
       "bahia cocoa review shower continue throughout week bahia cocoa zone alleviate drought since early january improve prospect come temporao although normal humidity level restore comissaria smith say weekly review dry period mean temporao late year arrivals week_ended february bag kilos make cumulative total season mln stage last_year seem cocoa deliver..."
      ],
      "text/plain": [
       "<IPython.core.display.HTML object>"
      ]
     },
     "execution_count": 10,
     "metadata": {},
     "output_type": "execute_result"
    }
   ],
   "source": [
    "print(\"training/1 tags :\", train_corpus[0].tags)\n",
    "print(\"training/1 words:\")\n",
    "HTML(\" \".join(train_corpus[0].words[:50]) + \"...\")"
   ]
  },
  {
   "cell_type": "markdown",
   "metadata": {},
   "source": [
    "Note that the number of `tags` must be constant across all documents for Doc2Vec to work.\n",
    "And recall from the theory that `tags` is *not* a label, rather, its just an arbitrary, but unique (paragraph) ID for each document used during training (see Figures 2 and 3 in the Le & Mikolov paper).\n",
    "\n",
    "## Model training\n",
    "\n",
    "Gensim provides Le's paragraph vectors via its [Doc2Vec API](https://radimrehurek.com/gensim/models/doc2vec.html#gensim.models.doc2vec.Doc2Vec), which is based on the earlier Word2Vec API; It can be used to train the word embeddings at the same time (as the document embeddings)."
   ]
  },
  {
   "cell_type": "code",
   "execution_count": 12,
   "metadata": {},
   "outputs": [
    {
     "name": "stdout",
     "output_type": "stream",
     "text": [
      "Doc2Vec(dbow+w,d45,n20,w5,mc2,s0.001,t4)\n"
     ]
    },
    {
     "data": {
      "text/plain": [
       "(False, 1, 1)"
      ]
     },
     "execution_count": 12,
     "metadata": {},
     "output_type": "execute_result"
    }
   ],
   "source": [
    "from gensim.models.doc2vec import Doc2Vec\n",
    "\n",
    "model = Doc2Vec(\n",
    "    workers=4, # CPU cores, \"t\" (threads)\n",
    "    iter=10, # epochs; \n",
    "    # typically, use more than Word2Vec (5-30)\n",
    "    # -> increase iter until the consistency evaluation \"works\"\n",
    "    alpha=0.025, # learning rate \n",
    "    # might optimize this (0.5-0.001)\n",
    "    # -> related with iter/epochs changes; fine-tuning\n",
    "    size=len(reuters.categories()) // 2, # n. dim. \n",
    "    # -> optimize this (30-3000)\n",
    "    hs=0, negative=20, # use \"hs\" (1) or \"s\" (>0, range: 2-30)\n",
    "    # hs = hierarch. softmax\n",
    "    # s = neg. subsampling (rate)\n",
    "    window=5, # typically 5, might be optimized (2-30)\n",
    "    min_count=2, # min. freq. to add token to model\n",
    "    # filter junk and \"hard-to-learn\" words (1-10ish)\n",
    "    # -> a \"light\" regularization parameter\n",
    "    dm=0, dbow_words=1 # train with DM or DBOW (and W2V) model\n",
    ")\n",
    "# add the training documents\n",
    "model.build_vocab(train_corpus)\n",
    "print(model)\n",
    "# Doc2Vec(model,dimensions,....,threads)\n",
    "model.dm, model.dbow, model.sg\n",
    "# True 0 0 -> DM model\n",
    "# False 1 1 -> DBOW model (and words)"
   ]
  },
  {
   "cell_type": "markdown",
   "metadata": {},
   "source": [
    "For example, the count for the word \"executive\" in the corpus is:"
   ]
  },
  {
   "cell_type": "code",
   "execution_count": 13,
   "metadata": {},
   "outputs": [
    {
     "data": {
      "text/plain": [
       "54"
      ]
     },
     "execution_count": 13,
     "metadata": {},
     "output_type": "execute_result"
    }
   ],
   "source": [
    "model.wv.vocab['executive'].count"
   ]
  },
  {
   "cell_type": "markdown",
   "metadata": {},
   "source": [
    "Traing should happen pretty fast - less than one minute on my quad-core machine."
   ]
  },
  {
   "cell_type": "code",
   "execution_count": 14,
   "metadata": {},
   "outputs": [
    {
     "name": "stdout",
     "output_type": "stream",
     "text": [
      "CPU times: user 1min 47s, sys: 394 ms, total: 1min 47s\n",
      "Wall time: 27.3 s\n"
     ]
    },
    {
     "data": {
      "text/plain": [
       "4851324"
      ]
     },
     "execution_count": 14,
     "metadata": {},
     "output_type": "execute_result"
    }
   ],
   "source": [
    "%%time\n",
    "model.train(\n",
    "    train_corpus,\n",
    "    total_examples=model.corpus_count,\n",
    "    epochs=model.iter)"
   ]
  },
  {
   "cell_type": "markdown",
   "metadata": {},
   "source": [
    "## Document inference\n",
    "\n",
    "With this model in place, you can now build new document embedding vectors for an unseen document:"
   ]
  },
  {
   "cell_type": "code",
   "execution_count": 15,
   "metadata": {
    "scrolled": true
   },
   "outputs": [
    {
     "data": {
      "text/plain": [
       "array([-0.45949781,  0.05013795, -0.50757664, -0.18050912,  0.02658268,\n",
       "        0.27198178, -0.41617486, -0.29049665,  0.28125477, -0.50475585,\n",
       "       -0.09590899,  0.18044834,  0.00961993,  0.00209527,  0.50641751,\n",
       "       -0.19694327,  0.69898385, -0.29305515, -0.3271215 ,  0.10161357,\n",
       "        0.31647757,  0.53769004,  0.27872261, -0.43017522, -0.21492016,\n",
       "       -0.21783571,  0.40026492,  0.0870956 ,  0.15500104,  0.25074407,\n",
       "        0.35743505,  0.44467661, -0.24711996, -0.25583658, -0.26881629,\n",
       "       -0.24515086,  0.28306478,  0.46773168,  0.36428374,  0.23417291,\n",
       "       -0.09876581, -0.50789618, -0.25526094, -0.03906316,  0.09192097], dtype=float32)"
      ]
     },
     "execution_count": 15,
     "metadata": {},
     "output_type": "execute_result"
    }
   ],
   "source": [
    "model.infer_vector([\n",
    "    'a', 'trivial', 'sample', 'document',\n",
    "    'to', 'infer', 'an', 'embedding'\n",
    "])"
   ]
  },
  {
   "cell_type": "markdown",
   "metadata": {},
   "source": [
    "Note that each inference run produces slightly different results due to random sampling of the paragraph words (see the Le & Miklolov paper). Verify this by re-running the above cell."
   ]
  },
  {
   "cell_type": "markdown",
   "metadata": {},
   "source": [
    "## Model consistency check\n",
    "\n",
    "A simple way to assess the embeddings and the inference makes any sense at all is to self-test the model: That is, by infereing document vectors for each training set document, and verifying that the most similar document is the same as the input document using [`DocvecsArray.most_similar`](https://radimrehurek.com/gensim/models/doc2vec.html#gensim.models.doc2vec.DocvecsArray.most_similar).\n",
    "\n",
    "For example:"
   ]
  },
  {
   "cell_type": "code",
   "execution_count": 16,
   "metadata": {},
   "outputs": [
    {
     "data": {
      "text/plain": [
       "[('training/14709', 0.9256892204284668),\n",
       " ('training/5362', 0.9256457686424255),\n",
       " ('training/12371', 0.9230365753173828),\n",
       " ('training/13158', 0.9217793345451355),\n",
       " ('training/14682', 0.9215726852416992),\n",
       " ('training/13272', 0.9206629991531372),\n",
       " ('training/14686', 0.9196255803108215),\n",
       " ('training/1143', 0.9189420938491821),\n",
       " ('training/1758', 0.9172046780586243),\n",
       " ('training/14701', 0.9167390465736389)]"
      ]
     },
     "execution_count": 16,
     "metadata": {},
     "output_type": "execute_result"
    }
   ],
   "source": [
    "model.docvecs.most_similar([\n",
    "    model.infer_vector([\n",
    "        'a', 'trivial', 'sample', 'document',\n",
    "        'to', 'infer', 'an', 'embedding'\n",
    "    ])\n",
    "])"
   ]
  },
  {
   "cell_type": "markdown",
   "metadata": {},
   "source": [
    "Now, lets run this over all documents and see where we stand; Because we must re-run the inference for each document, and then need to compare the simlilarity of the inferred vector against all known vectors, this might take a bit. To make this faster, we'll just check 10% of our documents."
   ]
  },
  {
   "cell_type": "code",
   "execution_count": 17,
   "metadata": {},
   "outputs": [
    {
     "name": "stdout",
     "output_type": "stream",
     "text": [
      "rank 1 document matched observed 709 times (91.4%)\n",
      "rank 2 document matched observed 30 times (3.9%)\n",
      "rank 3 document matched observed 6 times (0.8%)\n",
      "rank 4 document matched observed 4 times (0.5%)\n",
      "rank 5 document matched observed 4 times (0.5%)\n",
      "\n",
      "remaining ranks observed 23 times (3.0%)\n",
      "mean similiarity score = 0.957\n"
     ]
    }
   ],
   "source": [
    "from random import sample\n",
    "\n",
    "n_docs = len(train_corpus)\n",
    "n_trials = n_docs // 10\n",
    "ranks = [0] * n_docs\n",
    "similarty_sum = 0.\n",
    "# alias (save screen width)\n",
    "most_similar = model.docvecs.most_similar\n",
    "\n",
    "for doc in sample(train_corpus, n_trials):\n",
    "    inferred_vector = model.infer_vector(doc.words)\n",
    "    sims = most_similar([inferred_vector], topn=n_docs)\n",
    "    doc_ids = [doc_id for doc_id, sim in sims]\n",
    "    rank = doc_ids.index(doc.tags[0])\n",
    "    ranks[rank] += 1\n",
    "    similarty_sum += sims[rank][1]\n",
    "    \n",
    "for rank, count in enumerate(ranks[:5], 1):\n",
    "    if count > 0:\n",
    "        print(\"rank\", rank, \"document matched observed\", count,\n",
    "              \"times ({:.1f}%)\".format(100 * count / n_trials))\n",
    "\n",
    "print(\"\\nremaining ranks observed {:d} times ({:.1f}%)\".format(\n",
    "    sum(ranks[5:]),\n",
    "    100 * sum(ranks[5:]) / n_trials))\n",
    "print(\"mean similiarity score = {:.3f}\".format(\n",
    "    similarty_sum / n_trials))"
   ]
  },
  {
   "cell_type": "code",
   "execution_count": 18,
   "metadata": {},
   "outputs": [
    {
     "data": {
      "image/png": "[encoded data removed]",
      "text/plain": [
       "<matplotlib.figure.Figure at 0x1146b2748>"
      ]
     },
     "metadata": {},
     "output_type": "display_data"
    }
   ],
   "source": [
    "plt.plot(list(range(25)), ranks[:25])\n",
    "plt.title('Rank distribution')\n",
    "plt.show()"
   ]
  },
  {
   "cell_type": "markdown",
   "metadata": {},
   "source": [
    "Note that your results will differ on each run of the above cell due to the random sampling and also because the model isn't very good due to the tiny corpus size. But you should observe a large mean (Cosine vector) similarity, like 0.8, and ideally above 0.9, and there should be a significant \"mass\" of documents that are matched with rank 1 (80% or more).\n",
    "\n",
    "## Model evaluation\n",
    "\n",
    "Next, lets use the following tactic to evaluate our model: How many of the categories of the query (i.e., test) document match with the best-matching indexed (i.e., train) document? You could use this, for example, to evaluate adding documents to category-specific clusters, or a nearest neighbor-like apporach for predicting document categories."
   ]
  },
  {
   "cell_type": "code",
   "execution_count": 19,
   "metadata": {},
   "outputs": [
    {
     "name": "stdout",
     "output_type": "stream",
     "text": [
      "Precision: 2836/3744 = 75.75%\n",
      "Recall   : 2836/3706 = 76.52%\n",
      "\n",
      "mean   similiarity score = 0.874\n",
      "median similiarity score = 0.877\n"
     ]
    }
   ],
   "source": [
    "similarties = []\n",
    "n_docs = len(test_corpus)\n",
    "hits = 0\n",
    "pred_cats = 0\n",
    "ann_cats = 0\n",
    "# alias (save screen width)\n",
    "most_similar = model.docvecs.most_similar\n",
    "\n",
    "for doc in test_corpus:\n",
    "    test_id = doc.tags[0]\n",
    "    test_cats = set(reuters.categories(test_id))\n",
    "    \n",
    "    inferred_vector = model.infer_vector(doc.words)\n",
    "    \n",
    "    match_id, sim = most_similar([inferred_vector], topn=1)[0]\n",
    "    match_cats = set(reuters.categories(match_id))\n",
    "    \n",
    "    similarties.append(sim)\n",
    "    hits += len(test_cats & match_cats)\n",
    "    pred_cats += len(test_cats)\n",
    "    ann_cats += len(match_cats)\n",
    "\n",
    "similarties = sorted(similarties)\n",
    "\n",
    "print(\"Precision: {:d}/{:d} = {:.2f}%\".format(\n",
    "    hits, pred_cats,\n",
    "    100 * hits / pred_cats))\n",
    "print(\"Recall   : {:d}/{:d} = {:.2f}%\\n\".format(\n",
    "    hits, ann_cats,\n",
    "    100 * hits / ann_cats))\n",
    "print(\"mean   similiarity score = {:.3f}\".format(\n",
    "    sum(similarties) / n_docs))\n",
    "print(\"median similiarity score = {:.3f}\".format(\n",
    "    similarties[n_docs//2]))"
   ]
  },
  {
   "cell_type": "markdown",
   "metadata": {},
   "source": [
    "Step back a moment and let this sink in: We've achieved a category prediction performance that maybe does not (yet) beat the supervised methods we looked into on day one. Without ever conditioning the model on the categories, we've achieved a result that is far beyond random predictions (Reuters-21578 has 90 categories). That is, the paragraph vector model figured out the documents' semantics all on its own, and we never told it anything about the categories, yet it clearly is able to make sensible matches, retrieving documents from the same categories.\n",
    "\n",
    "Our above evaluation setup resembles that of a traditional nearest neighbor classifier. For reference, the highest score a (heavily optimized) kNN classifier ever achieved on this dataset is a [86% micro-averaged $F_1$-score](https://www.aaai.org/Papers/ICML/2003/ICML03-063.pdf) (see Figure 2). But the best kNN classifier used 2000 features, while our model only has 45 dimensions (i.e., features), those feature vectors are generated fully **unsupervised**, and they can be used to train (supervised) classifiers (see the Le & Mikolov paper, where they evaluated paragraph vectors feeding a logistic regression classifier on various datasets and tasks)."
   ]
  },
  {
   "cell_type": "code",
   "execution_count": 20,
   "metadata": {},
   "outputs": [
    {
     "name": "stdout",
     "output_type": "stream",
     "text": [
      "Basline precision (predict earn always): 36.0%\n",
      "Basline recall    (predict earn always): 29.0%\n"
     ]
    }
   ],
   "source": [
    "# document IDs labeled \"earn\" that start with \"test/\"\n",
    "hits = sum(1 for f in reuters.fileids(\"earn\")\n",
    "           if f.startswith(\"test/\"))\n",
    "\n",
    "test_docs = [f for f in reuters.fileids()\n",
    "             if f.startswith(\"test/\")]\n",
    "\n",
    "# n. labels on of test documents\n",
    "n_cats = sum(len(reuters.categories(f)) for f in test_docs)\n",
    "\n",
    "print(\"Basline precision (predict earn always): {:.1f}%\".format(\n",
    "    100 * hits / len(test_docs)))\n",
    "\n",
    "print(\"Basline recall    (predict earn always): {:.1f}%\".format(\n",
    "    100 * hits / n_cats))"
   ]
  },
  {
   "cell_type": "markdown",
   "metadata": {},
   "source": [
    "Note that the Reuters categories are highly imbalanced, and just predicting the majority label (`earn`) gives you a 32% micro-averaged $F_1$ on this set (i.e., the best \"test dummy\" baseline, maybe).\n",
    "\n",
    "## Conclusions\n",
    "\n",
    "Finally we have arrived at the \"core\" of statistical text mining: we can now easily convert a document into small-ish (< 1000) arrays of numbers. And we've emulated supervised models using only \"represenation learning\" techniques that are fully unsupervised. It should go without saying that even more impressive results can be achieved by combining the two approaches: first, use representation learning to create document vectors and then use supervised learning to predict the correct label(s), using the document vectors as input (instead of the noisy, sparse bag-of-word vectors)."
   ]
  }
 ],
 "metadata": {
  "kernelspec": {
   "display_name": "Python 3",
   "language": "python",
   "name": "python3"
  },
  "language_info": {
   "codemirror_mode": {
    "name": "ipython",
    "version": 3
   },
   "file_extension": ".py",
   "mimetype": "text/x-python",
   "name": "python",
   "nbconvert_exporter": "python",
   "pygments_lexer": "ipython3",
   "version": "3.6.1"
  }
 },
 "nbformat": 4,
 "nbformat_minor": 2
}
